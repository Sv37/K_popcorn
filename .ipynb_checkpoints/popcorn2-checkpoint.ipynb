{
 "cells": [
  {
   "cell_type": "code",
   "execution_count": 1,
   "metadata": {},
   "outputs": [],
   "source": [
    "import pandas as pd\n",
    "from bs4 import BeautifulSoup\n",
    "import re\n",
    "from nltk.corpus import stopwords"
   ]
  },
  {
   "cell_type": "code",
   "execution_count": 2,
   "metadata": {},
   "outputs": [],
   "source": [
    "train = pd.read_csv(\"~/Documents/kaggle/popcorn/data/labeledTrainData.tsv\", header=0, delimiter=\"\\t\", quoting=3)\n",
    "test = pd.read_csv(\"~/Documents/kaggle/popcorn/data/testData.tsv\", header=0, delimiter=\"\\t\", quoting=3)\n",
    "unlabeled_train = pd.read_csv(\"~/Documents/kaggle/popcorn/data/unlabeledTrainData.tsv\", header=0, delimiter=\"\\t\", quoting=3)"
   ]
  },
  {
   "cell_type": "code",
   "execution_count": 3,
   "metadata": {},
   "outputs": [],
   "source": [
    "def review_to_wordlist(review, remove_stopwords=False):\n",
    "    review_text = BeautifulSoup(review).get_text()\n",
    "    review_text = re.sub('[^a-zA-Z]', ' ', review_text)\n",
    "    words = review_text.lower().split()\n",
    "    if remove_stopwords:\n",
    "        stops = set(stopwords.words('english'))\n",
    "        words = [w for w in words if not w in stops]\n",
    "    return(words)"
   ]
  },
  {
   "cell_type": "code",
   "execution_count": 4,
   "metadata": {},
   "outputs": [],
   "source": [
    "import nltk.data\n",
    "tokenizer = nltk.data.load('tokenizers/punkt/english.pickle')"
   ]
  },
  {
   "cell_type": "code",
   "execution_count": 5,
   "metadata": {},
   "outputs": [],
   "source": [
    "def review_to_sentences(review, tokenizer, remove_stopwords=False):\n",
    "    raw_sentences = tokenizer.tokenize(review.strip())\n",
    "    sentences = []\n",
    "    for raw_sentence in raw_sentences:\n",
    "        if len(raw_sentence) > 0:\n",
    "            sentences.append(review_to_wordlist(raw_sentence, remove_stopwords))\n",
    "    return sentences"
   ]
  },
  {
   "cell_type": "code",
   "execution_count": 6,
   "metadata": {},
   "outputs": [
    {
     "name": "stderr",
     "output_type": "stream",
     "text": [
      "/home/svet/mainenv/lib/python3.6/site-packages/bs4/__init__.py:273: UserWarning: \"b'.'\" looks like a filename, not markup. You should probably open this file and pass the filehandle into Beautiful Soup.\n",
      "  ' Beautiful Soup.' % markup)\n",
      "/home/svet/mainenv/lib/python3.6/site-packages/bs4/__init__.py:336: UserWarning: \"http://www.happierabroad.com\"\" looks like a URL. Beautiful Soup is not an HTTP client. You should probably use an HTTP client like requests to get the document behind the URL, and feed that document to Beautiful Soup.\n",
      "  ' that document to Beautiful Soup.' % decoded_markup\n",
      "/home/svet/mainenv/lib/python3.6/site-packages/bs4/__init__.py:336: UserWarning: \"http://www.archive.org/details/LovefromaStranger\"\" looks like a URL. Beautiful Soup is not an HTTP client. You should probably use an HTTP client like requests to get the document behind the URL, and feed that document to Beautiful Soup.\n",
      "  ' that document to Beautiful Soup.' % decoded_markup\n",
      "/home/svet/mainenv/lib/python3.6/site-packages/bs4/__init__.py:336: UserWarning: \"http://www.loosechangeguide.com/LooseChangeGuide.html\"\" looks like a URL. Beautiful Soup is not an HTTP client. You should probably use an HTTP client like requests to get the document behind the URL, and feed that document to Beautiful Soup.\n",
      "  ' that document to Beautiful Soup.' % decoded_markup\n",
      "/home/svet/mainenv/lib/python3.6/site-packages/bs4/__init__.py:336: UserWarning: \"http://www.msnbc.msn.com/id/4972055/site/newsweek/\"\" looks like a URL. Beautiful Soup is not an HTTP client. You should probably use an HTTP client like requests to get the document behind the URL, and feed that document to Beautiful Soup.\n",
      "  ' that document to Beautiful Soup.' % decoded_markup\n",
      "/home/svet/mainenv/lib/python3.6/site-packages/bs4/__init__.py:273: UserWarning: \"b'..'\" looks like a filename, not markup. You should probably open this file and pass the filehandle into Beautiful Soup.\n",
      "  ' Beautiful Soup.' % markup)\n",
      "/home/svet/mainenv/lib/python3.6/site-packages/bs4/__init__.py:336: UserWarning: \"http://www.youtube.com/watch?v=a0KSqelmgN8\"\" looks like a URL. Beautiful Soup is not an HTTP client. You should probably use an HTTP client like requests to get the document behind the URL, and feed that document to Beautiful Soup.\n",
      "  ' that document to Beautiful Soup.' % decoded_markup\n",
      "/home/svet/mainenv/lib/python3.6/site-packages/bs4/__init__.py:336: UserWarning: \"http://jake-weird.blogspot.com/2007/08/beneath.html\"\" looks like a URL. Beautiful Soup is not an HTTP client. You should probably use an HTTP client like requests to get the document behind the URL, and feed that document to Beautiful Soup.\n",
      "  ' that document to Beautiful Soup.' % decoded_markup\n"
     ]
    }
   ],
   "source": [
    "sentences = []\n",
    "for review in train['review']:\n",
    "    sentences += review_to_sentences(review, tokenizer)\n",
    "for review in unlabeled_train['review']:\n",
    "    sentences += review_to_sentences(review, tokenizer)"
   ]
  },
  {
   "cell_type": "code",
   "execution_count": 7,
   "metadata": {},
   "outputs": [
    {
     "data": {
      "text/plain": [
       "795538"
      ]
     },
     "execution_count": 7,
     "metadata": {},
     "output_type": "execute_result"
    }
   ],
   "source": [
    "len(sentences)"
   ]
  },
  {
   "cell_type": "code",
   "execution_count": 9,
   "metadata": {},
   "outputs": [],
   "source": [
    "import logging\n",
    "logging.basicConfig(format='%(asctime)s : %(levelname)s : %(message)s', level=logging.INFO)\n",
    "\n",
    "# Set values for various parameters\n",
    "num_features = 300    # Word vector dimensionality                      \n",
    "min_word_count = 40   # Minimum word count                        \n",
    "num_workers = 4       # Number of threads to run in parallel\n",
    "context = 10          # Context window size                                                                                    \n",
    "downsampling = 1e-3   # Downsample setting for frequent words"
   ]
  },
  {
   "cell_type": "code",
   "execution_count": 11,
   "metadata": {},
   "outputs": [
    {
     "name": "stderr",
     "output_type": "stream",
     "text": [
      "2018-12-07 20:54:13,580 : INFO : collecting all words and their counts\n",
      "2018-12-07 20:54:13,582 : INFO : PROGRESS: at sentence #0, processed 0 words, keeping 0 word types\n",
      "2018-12-07 20:54:13,634 : INFO : PROGRESS: at sentence #10000, processed 225803 words, keeping 17776 word types\n",
      "2018-12-07 20:54:13,684 : INFO : PROGRESS: at sentence #20000, processed 451892 words, keeping 24948 word types\n",
      "2018-12-07 20:54:13,722 : INFO : PROGRESS: at sentence #30000, processed 671314 words, keeping 30034 word types\n",
      "2018-12-07 20:54:13,765 : INFO : PROGRESS: at sentence #40000, processed 897814 words, keeping 34348 word types\n",
      "2018-12-07 20:54:13,808 : INFO : PROGRESS: at sentence #50000, processed 1116962 words, keeping 37761 word types\n",
      "2018-12-07 20:54:13,852 : INFO : PROGRESS: at sentence #60000, processed 1338403 words, keeping 40723 word types\n",
      "2018-12-07 20:54:13,897 : INFO : PROGRESS: at sentence #70000, processed 1561579 words, keeping 43333 word types\n",
      "2018-12-07 20:54:13,940 : INFO : PROGRESS: at sentence #80000, processed 1780886 words, keeping 45714 word types\n",
      "2018-12-07 20:54:13,984 : INFO : PROGRESS: at sentence #90000, processed 2004995 words, keeping 48135 word types\n",
      "2018-12-07 20:54:14,029 : INFO : PROGRESS: at sentence #100000, processed 2226966 words, keeping 50207 word types\n",
      "2018-12-07 20:54:14,073 : INFO : PROGRESS: at sentence #110000, processed 2446580 words, keeping 52081 word types\n",
      "2018-12-07 20:54:14,117 : INFO : PROGRESS: at sentence #120000, processed 2668775 words, keeping 54119 word types\n",
      "2018-12-07 20:54:14,162 : INFO : PROGRESS: at sentence #130000, processed 2894303 words, keeping 55847 word types\n",
      "2018-12-07 20:54:14,204 : INFO : PROGRESS: at sentence #140000, processed 3107005 words, keeping 57346 word types\n",
      "2018-12-07 20:54:14,249 : INFO : PROGRESS: at sentence #150000, processed 3332627 words, keeping 59055 word types\n",
      "2018-12-07 20:54:14,303 : INFO : PROGRESS: at sentence #160000, processed 3555315 words, keeping 60617 word types\n",
      "2018-12-07 20:54:14,345 : INFO : PROGRESS: at sentence #170000, processed 3778655 words, keeping 62077 word types\n",
      "2018-12-07 20:54:14,390 : INFO : PROGRESS: at sentence #180000, processed 3999236 words, keeping 63496 word types\n",
      "2018-12-07 20:54:14,436 : INFO : PROGRESS: at sentence #190000, processed 4224449 words, keeping 64794 word types\n",
      "2018-12-07 20:54:14,481 : INFO : PROGRESS: at sentence #200000, processed 4448603 words, keeping 66087 word types\n",
      "2018-12-07 20:54:14,525 : INFO : PROGRESS: at sentence #210000, processed 4669967 words, keeping 67390 word types\n",
      "2018-12-07 20:54:14,570 : INFO : PROGRESS: at sentence #220000, processed 4894968 words, keeping 68697 word types\n",
      "2018-12-07 20:54:14,629 : INFO : PROGRESS: at sentence #230000, processed 5117546 words, keeping 69958 word types\n",
      "2018-12-07 20:54:14,674 : INFO : PROGRESS: at sentence #240000, processed 5345051 words, keeping 71167 word types\n",
      "2018-12-07 20:54:14,716 : INFO : PROGRESS: at sentence #250000, processed 5559166 words, keeping 72351 word types\n",
      "2018-12-07 20:54:14,761 : INFO : PROGRESS: at sentence #260000, processed 5779147 words, keeping 73478 word types\n",
      "2018-12-07 20:54:14,809 : INFO : PROGRESS: at sentence #270000, processed 6000436 words, keeping 74767 word types\n",
      "2018-12-07 20:54:14,857 : INFO : PROGRESS: at sentence #280000, processed 6226315 words, keeping 76369 word types\n",
      "2018-12-07 20:54:14,903 : INFO : PROGRESS: at sentence #290000, processed 6449475 words, keeping 77839 word types\n",
      "2018-12-07 20:54:14,952 : INFO : PROGRESS: at sentence #300000, processed 6674078 words, keeping 79171 word types\n",
      "2018-12-07 20:54:14,997 : INFO : PROGRESS: at sentence #310000, processed 6899392 words, keeping 80480 word types\n",
      "2018-12-07 20:54:15,043 : INFO : PROGRESS: at sentence #320000, processed 7124279 words, keeping 81808 word types\n",
      "2018-12-07 20:54:15,088 : INFO : PROGRESS: at sentence #330000, processed 7346022 words, keeping 83030 word types\n",
      "2018-12-07 20:54:15,137 : INFO : PROGRESS: at sentence #340000, processed 7575534 words, keeping 84280 word types\n",
      "2018-12-07 20:54:15,182 : INFO : PROGRESS: at sentence #350000, processed 7798804 words, keeping 85425 word types\n",
      "2018-12-07 20:54:15,227 : INFO : PROGRESS: at sentence #360000, processed 8019467 words, keeping 86596 word types\n",
      "2018-12-07 20:54:15,287 : INFO : PROGRESS: at sentence #370000, processed 8246659 words, keeping 87708 word types\n",
      "2018-12-07 20:54:15,331 : INFO : PROGRESS: at sentence #380000, processed 8471806 words, keeping 88878 word types\n",
      "2018-12-07 20:54:15,378 : INFO : PROGRESS: at sentence #390000, processed 8701556 words, keeping 89907 word types\n",
      "2018-12-07 20:54:15,423 : INFO : PROGRESS: at sentence #400000, processed 8924505 words, keeping 90916 word types\n",
      "2018-12-07 20:54:15,469 : INFO : PROGRESS: at sentence #410000, processed 9145855 words, keeping 91880 word types\n",
      "2018-12-07 20:54:15,515 : INFO : PROGRESS: at sentence #420000, processed 9366935 words, keeping 92912 word types\n",
      "2018-12-07 20:54:15,563 : INFO : PROGRESS: at sentence #430000, processed 9594472 words, keeping 93932 word types\n",
      "2018-12-07 20:54:15,615 : INFO : PROGRESS: at sentence #440000, processed 9821225 words, keeping 94906 word types\n",
      "2018-12-07 20:54:15,658 : INFO : PROGRESS: at sentence #450000, processed 10044987 words, keeping 96036 word types\n",
      "2018-12-07 20:54:15,706 : INFO : PROGRESS: at sentence #460000, processed 10277747 words, keeping 97088 word types\n",
      "2018-12-07 20:54:15,752 : INFO : PROGRESS: at sentence #470000, processed 10505672 words, keeping 97933 word types\n",
      "2018-12-07 20:54:15,799 : INFO : PROGRESS: at sentence #480000, processed 10726056 words, keeping 98862 word types\n",
      "2018-12-07 20:54:15,845 : INFO : PROGRESS: at sentence #490000, processed 10952800 words, keeping 99871 word types\n",
      "2018-12-07 20:54:15,890 : INFO : PROGRESS: at sentence #500000, processed 11174456 words, keeping 100765 word types\n",
      "2018-12-07 20:54:15,938 : INFO : PROGRESS: at sentence #510000, processed 11399731 words, keeping 101699 word types\n",
      "2018-12-07 20:54:15,982 : INFO : PROGRESS: at sentence #520000, processed 11623082 words, keeping 102598 word types\n",
      "2018-12-07 20:54:16,029 : INFO : PROGRESS: at sentence #530000, processed 11847480 words, keeping 103400 word types\n",
      "2018-12-07 20:54:16,075 : INFO : PROGRESS: at sentence #540000, processed 12072095 words, keeping 104265 word types\n",
      "2018-12-07 20:54:16,122 : INFO : PROGRESS: at sentence #550000, processed 12297646 words, keeping 105133 word types\n",
      "2018-12-07 20:54:16,168 : INFO : PROGRESS: at sentence #560000, processed 12518936 words, keeping 105997 word types\n",
      "2018-12-07 20:54:16,215 : INFO : PROGRESS: at sentence #570000, processed 12748083 words, keeping 106787 word types\n",
      "2018-12-07 20:54:16,264 : INFO : PROGRESS: at sentence #580000, processed 12969579 words, keeping 107665 word types\n",
      "2018-12-07 20:54:16,325 : INFO : PROGRESS: at sentence #590000, processed 13195103 words, keeping 108502 word types\n",
      "2018-12-07 20:54:16,376 : INFO : PROGRESS: at sentence #600000, processed 13417301 words, keeping 109219 word types\n",
      "2018-12-07 20:54:16,425 : INFO : PROGRESS: at sentence #610000, processed 13638324 words, keeping 110093 word types\n",
      "2018-12-07 20:54:16,474 : INFO : PROGRESS: at sentence #620000, processed 13864649 words, keeping 110838 word types\n",
      "2018-12-07 20:54:16,522 : INFO : PROGRESS: at sentence #630000, processed 14088935 words, keeping 111611 word types\n",
      "2018-12-07 20:54:16,571 : INFO : PROGRESS: at sentence #640000, processed 14309718 words, keeping 112417 word types\n",
      "2018-12-07 20:54:16,623 : INFO : PROGRESS: at sentence #650000, processed 14535474 words, keeping 113197 word types\n",
      "2018-12-07 20:54:16,671 : INFO : PROGRESS: at sentence #660000, processed 14758264 words, keeping 113946 word types\n",
      "2018-12-07 20:54:16,714 : INFO : PROGRESS: at sentence #670000, processed 14981657 words, keeping 114644 word types\n",
      "2018-12-07 20:54:16,763 : INFO : PROGRESS: at sentence #680000, processed 15206489 words, keeping 115355 word types\n",
      "2018-12-07 20:54:16,811 : INFO : PROGRESS: at sentence #690000, processed 15428682 words, keeping 116132 word types\n",
      "2018-12-07 20:54:16,860 : INFO : PROGRESS: at sentence #700000, processed 15657388 words, keeping 116944 word types\n",
      "2018-12-07 20:54:16,907 : INFO : PROGRESS: at sentence #710000, processed 15880377 words, keeping 117597 word types\n"
     ]
    },
    {
     "name": "stderr",
     "output_type": "stream",
     "text": [
      "2018-12-07 20:54:16,955 : INFO : PROGRESS: at sentence #720000, processed 16105664 words, keeping 118222 word types\n",
      "2018-12-07 20:54:17,002 : INFO : PROGRESS: at sentence #730000, processed 16332045 words, keeping 118955 word types\n",
      "2018-12-07 20:54:17,048 : INFO : PROGRESS: at sentence #740000, processed 16553078 words, keeping 119669 word types\n",
      "2018-12-07 20:54:17,094 : INFO : PROGRESS: at sentence #750000, processed 16771405 words, keeping 120296 word types\n",
      "2018-12-07 20:54:17,140 : INFO : PROGRESS: at sentence #760000, processed 16990809 words, keeping 120931 word types\n",
      "2018-12-07 20:54:17,186 : INFO : PROGRESS: at sentence #770000, processed 17217946 words, keeping 121704 word types\n",
      "2018-12-07 20:54:17,240 : INFO : PROGRESS: at sentence #780000, processed 17448092 words, keeping 122403 word types\n",
      "2018-12-07 20:54:17,286 : INFO : PROGRESS: at sentence #790000, processed 17675168 words, keeping 123067 word types\n",
      "2018-12-07 20:54:17,311 : INFO : collected 123505 word types from a corpus of 17798269 raw words and 795538 sentences\n",
      "2018-12-07 20:54:17,312 : INFO : Loading a fresh vocabulary\n",
      "2018-12-07 20:54:17,371 : INFO : effective_min_count=40 retains 16490 unique words (13% of original 123505, drops 107015)\n",
      "2018-12-07 20:54:17,372 : INFO : effective_min_count=40 leaves 17239123 word corpus (96% of original 17798269, drops 559146)\n",
      "2018-12-07 20:54:17,414 : INFO : deleting the raw counts dictionary of 123505 items\n",
      "2018-12-07 20:54:17,417 : INFO : sample=0.001 downsamples 48 most-common words\n",
      "2018-12-07 20:54:17,418 : INFO : downsampling leaves estimated 12749797 word corpus (74.0% of prior 17239123)\n",
      "2018-12-07 20:54:17,460 : INFO : estimated required memory for 16490 words and 300 dimensions: 47821000 bytes\n",
      "2018-12-07 20:54:17,461 : INFO : resetting layer weights\n",
      "2018-12-07 20:54:17,632 : INFO : training model with 4 workers on 16490 vocabulary and 300 features, using sg=0 hs=0 sample=0.001 negative=5 window=10\n",
      "2018-12-07 20:54:18,644 : INFO : EPOCH 1 - PROGRESS: at 8.16% examples, 1028036 words/s, in_qsize 7, out_qsize 0\n",
      "2018-12-07 20:54:19,656 : INFO : EPOCH 1 - PROGRESS: at 15.56% examples, 977606 words/s, in_qsize 7, out_qsize 0\n",
      "2018-12-07 20:54:20,657 : INFO : EPOCH 1 - PROGRESS: at 22.70% examples, 951752 words/s, in_qsize 7, out_qsize 0\n",
      "2018-12-07 20:54:21,662 : INFO : EPOCH 1 - PROGRESS: at 30.09% examples, 948414 words/s, in_qsize 7, out_qsize 0\n",
      "2018-12-07 20:54:22,663 : INFO : EPOCH 1 - PROGRESS: at 37.16% examples, 937177 words/s, in_qsize 7, out_qsize 0\n",
      "2018-12-07 20:54:23,679 : INFO : EPOCH 1 - PROGRESS: at 44.61% examples, 937128 words/s, in_qsize 7, out_qsize 0\n",
      "2018-12-07 20:54:24,690 : INFO : EPOCH 1 - PROGRESS: at 52.48% examples, 945686 words/s, in_qsize 8, out_qsize 0\n",
      "2018-12-07 20:54:25,693 : INFO : EPOCH 1 - PROGRESS: at 60.41% examples, 954854 words/s, in_qsize 7, out_qsize 0\n",
      "2018-12-07 20:54:26,701 : INFO : EPOCH 1 - PROGRESS: at 68.10% examples, 956737 words/s, in_qsize 7, out_qsize 0\n",
      "2018-12-07 20:54:27,714 : INFO : EPOCH 1 - PROGRESS: at 76.10% examples, 962091 words/s, in_qsize 7, out_qsize 0\n",
      "2018-12-07 20:54:28,716 : INFO : EPOCH 1 - PROGRESS: at 84.12% examples, 967436 words/s, in_qsize 8, out_qsize 0\n",
      "2018-12-07 20:54:29,717 : INFO : EPOCH 1 - PROGRESS: at 92.10% examples, 971922 words/s, in_qsize 7, out_qsize 0\n",
      "2018-12-07 20:54:30,708 : INFO : worker thread finished; awaiting finish of 3 more threads\n",
      "2018-12-07 20:54:30,712 : INFO : worker thread finished; awaiting finish of 2 more threads\n",
      "2018-12-07 20:54:30,716 : INFO : worker thread finished; awaiting finish of 1 more threads\n",
      "2018-12-07 20:54:30,727 : INFO : EPOCH 1 - PROGRESS: at 100.00% examples, 973961 words/s, in_qsize 0, out_qsize 1\n",
      "2018-12-07 20:54:30,728 : INFO : worker thread finished; awaiting finish of 0 more threads\n",
      "2018-12-07 20:54:30,728 : INFO : EPOCH - 1 : training on 17798269 raw words (12750461 effective words) took 13.1s, 973880 effective words/s\n",
      "2018-12-07 20:54:31,737 : INFO : EPOCH 2 - PROGRESS: at 8.00% examples, 1013501 words/s, in_qsize 7, out_qsize 0\n",
      "2018-12-07 20:54:32,752 : INFO : EPOCH 2 - PROGRESS: at 15.23% examples, 957889 words/s, in_qsize 7, out_qsize 0\n",
      "2018-12-07 20:54:33,756 : INFO : EPOCH 2 - PROGRESS: at 23.27% examples, 975873 words/s, in_qsize 7, out_qsize 0\n",
      "2018-12-07 20:54:34,766 : INFO : EPOCH 2 - PROGRESS: at 30.50% examples, 960075 words/s, in_qsize 7, out_qsize 0\n",
      "2018-12-07 20:54:35,768 : INFO : EPOCH 2 - PROGRESS: at 38.63% examples, 973465 words/s, in_qsize 7, out_qsize 0\n",
      "2018-12-07 20:54:36,774 : INFO : EPOCH 2 - PROGRESS: at 46.40% examples, 975988 words/s, in_qsize 7, out_qsize 0\n",
      "2018-12-07 20:54:37,778 : INFO : EPOCH 2 - PROGRESS: at 54.26% examples, 980063 words/s, in_qsize 7, out_qsize 0\n",
      "2018-12-07 20:54:38,782 : INFO : EPOCH 2 - PROGRESS: at 61.52% examples, 974138 words/s, in_qsize 7, out_qsize 0\n",
      "2018-12-07 20:54:39,786 : INFO : EPOCH 2 - PROGRESS: at 67.86% examples, 955379 words/s, in_qsize 7, out_qsize 0\n",
      "2018-12-07 20:54:40,802 : INFO : EPOCH 2 - PROGRESS: at 74.40% examples, 942135 words/s, in_qsize 7, out_qsize 0\n",
      "2018-12-07 20:54:41,816 : INFO : EPOCH 2 - PROGRESS: at 81.04% examples, 932075 words/s, in_qsize 7, out_qsize 0\n",
      "2018-12-07 20:54:42,826 : INFO : EPOCH 2 - PROGRESS: at 87.64% examples, 924084 words/s, in_qsize 7, out_qsize 0\n",
      "2018-12-07 20:54:43,830 : INFO : EPOCH 2 - PROGRESS: at 94.27% examples, 917676 words/s, in_qsize 7, out_qsize 0\n",
      "2018-12-07 20:54:44,674 : INFO : worker thread finished; awaiting finish of 3 more threads\n",
      "2018-12-07 20:54:44,689 : INFO : worker thread finished; awaiting finish of 2 more threads\n",
      "2018-12-07 20:54:44,699 : INFO : worker thread finished; awaiting finish of 1 more threads\n",
      "2018-12-07 20:54:44,700 : INFO : worker thread finished; awaiting finish of 0 more threads\n",
      "2018-12-07 20:54:44,701 : INFO : EPOCH - 2 : training on 17798269 raw words (12752340 effective words) took 14.0s, 913133 effective words/s\n",
      "2018-12-07 20:54:45,716 : INFO : EPOCH 3 - PROGRESS: at 6.45% examples, 815127 words/s, in_qsize 7, out_qsize 0\n",
      "2018-12-07 20:54:46,720 : INFO : EPOCH 3 - PROGRESS: at 13.08% examples, 824653 words/s, in_qsize 7, out_qsize 0\n",
      "2018-12-07 20:54:47,728 : INFO : EPOCH 3 - PROGRESS: at 19.65% examples, 823495 words/s, in_qsize 7, out_qsize 0\n",
      "2018-12-07 20:54:48,736 : INFO : EPOCH 3 - PROGRESS: at 26.41% examples, 830666 words/s, in_qsize 7, out_qsize 0\n",
      "2018-12-07 20:54:49,737 : INFO : EPOCH 3 - PROGRESS: at 33.03% examples, 831416 words/s, in_qsize 7, out_qsize 0\n",
      "2018-12-07 20:54:50,741 : INFO : EPOCH 3 - PROGRESS: at 39.59% examples, 831732 words/s, in_qsize 7, out_qsize 0\n",
      "2018-12-07 20:54:51,749 : INFO : EPOCH 3 - PROGRESS: at 45.71% examples, 824439 words/s, in_qsize 7, out_qsize 0\n",
      "2018-12-07 20:54:52,750 : INFO : EPOCH 3 - PROGRESS: at 52.32% examples, 826770 words/s, in_qsize 7, out_qsize 0\n",
      "2018-12-07 20:54:53,750 : INFO : EPOCH 3 - PROGRESS: at 58.68% examples, 826243 words/s, in_qsize 7, out_qsize 0\n",
      "2018-12-07 20:54:54,770 : INFO : EPOCH 3 - PROGRESS: at 63.62% examples, 805006 words/s, in_qsize 8, out_qsize 0\n",
      "2018-12-07 20:54:55,772 : INFO : EPOCH 3 - PROGRESS: at 69.25% examples, 797377 words/s, in_qsize 7, out_qsize 0\n",
      "2018-12-07 20:54:56,774 : INFO : EPOCH 3 - PROGRESS: at 75.70% examples, 799367 words/s, in_qsize 7, out_qsize 0\n",
      "2018-12-07 20:54:57,778 : INFO : EPOCH 3 - PROGRESS: at 82.27% examples, 801979 words/s, in_qsize 7, out_qsize 0\n",
      "2018-12-07 20:54:58,782 : INFO : EPOCH 3 - PROGRESS: at 88.92% examples, 805284 words/s, in_qsize 7, out_qsize 0\n",
      "2018-12-07 20:54:59,782 : INFO : EPOCH 3 - PROGRESS: at 95.47% examples, 806920 words/s, in_qsize 8, out_qsize 1\n",
      "2018-12-07 20:55:00,447 : INFO : worker thread finished; awaiting finish of 3 more threads\n",
      "2018-12-07 20:55:00,457 : INFO : worker thread finished; awaiting finish of 2 more threads\n",
      "2018-12-07 20:55:00,472 : INFO : worker thread finished; awaiting finish of 1 more threads\n",
      "2018-12-07 20:55:00,473 : INFO : worker thread finished; awaiting finish of 0 more threads\n",
      "2018-12-07 20:55:00,474 : INFO : EPOCH - 3 : training on 17798269 raw words (12750677 effective words) took 15.8s, 808708 effective words/s\n",
      "2018-12-07 20:55:01,483 : INFO : EPOCH 4 - PROGRESS: at 6.45% examples, 819375 words/s, in_qsize 7, out_qsize 0\n"
     ]
    },
    {
     "name": "stderr",
     "output_type": "stream",
     "text": [
      "2018-12-07 20:55:02,498 : INFO : EPOCH 4 - PROGRESS: at 13.20% examples, 829203 words/s, in_qsize 7, out_qsize 0\n",
      "2018-12-07 20:55:03,505 : INFO : EPOCH 4 - PROGRESS: at 19.94% examples, 834178 words/s, in_qsize 7, out_qsize 0\n",
      "2018-12-07 20:55:04,506 : INFO : EPOCH 4 - PROGRESS: at 25.97% examples, 816826 words/s, in_qsize 7, out_qsize 0\n",
      "2018-12-07 20:55:05,508 : INFO : EPOCH 4 - PROGRESS: at 32.62% examples, 821583 words/s, in_qsize 7, out_qsize 0\n",
      "2018-12-07 20:55:06,510 : INFO : EPOCH 4 - PROGRESS: at 39.31% examples, 826167 words/s, in_qsize 7, out_qsize 0\n",
      "2018-12-07 20:55:07,512 : INFO : EPOCH 4 - PROGRESS: at 45.83% examples, 827469 words/s, in_qsize 7, out_qsize 0\n",
      "2018-12-07 20:55:08,520 : INFO : EPOCH 4 - PROGRESS: at 52.37% examples, 827728 words/s, in_qsize 7, out_qsize 0\n",
      "2018-12-07 20:55:09,524 : INFO : EPOCH 4 - PROGRESS: at 58.90% examples, 829099 words/s, in_qsize 7, out_qsize 0\n",
      "2018-12-07 20:55:10,527 : INFO : EPOCH 4 - PROGRESS: at 65.51% examples, 830254 words/s, in_qsize 7, out_qsize 0\n",
      "2018-12-07 20:55:11,540 : INFO : EPOCH 4 - PROGRESS: at 72.09% examples, 830589 words/s, in_qsize 7, out_qsize 0\n",
      "2018-12-07 20:55:12,544 : INFO : EPOCH 4 - PROGRESS: at 78.61% examples, 830253 words/s, in_qsize 7, out_qsize 0\n",
      "2018-12-07 20:55:13,546 : INFO : EPOCH 4 - PROGRESS: at 84.88% examples, 827899 words/s, in_qsize 7, out_qsize 0\n",
      "2018-12-07 20:55:14,546 : INFO : EPOCH 4 - PROGRESS: at 91.38% examples, 827980 words/s, in_qsize 7, out_qsize 0\n",
      "2018-12-07 20:55:15,555 : INFO : EPOCH 4 - PROGRESS: at 98.00% examples, 828548 words/s, in_qsize 7, out_qsize 0\n",
      "2018-12-07 20:55:15,830 : INFO : worker thread finished; awaiting finish of 3 more threads\n",
      "2018-12-07 20:55:15,840 : INFO : worker thread finished; awaiting finish of 2 more threads\n",
      "2018-12-07 20:55:15,844 : INFO : worker thread finished; awaiting finish of 1 more threads\n",
      "2018-12-07 20:55:15,857 : INFO : worker thread finished; awaiting finish of 0 more threads\n",
      "2018-12-07 20:55:15,858 : INFO : EPOCH - 4 : training on 17798269 raw words (12747902 effective words) took 15.4s, 828941 effective words/s\n",
      "2018-12-07 20:55:16,866 : INFO : EPOCH 5 - PROGRESS: at 6.51% examples, 827949 words/s, in_qsize 7, out_qsize 0\n",
      "2018-12-07 20:55:17,871 : INFO : EPOCH 5 - PROGRESS: at 13.03% examples, 823107 words/s, in_qsize 7, out_qsize 0\n",
      "2018-12-07 20:55:18,873 : INFO : EPOCH 5 - PROGRESS: at 19.71% examples, 829390 words/s, in_qsize 7, out_qsize 0\n",
      "2018-12-07 20:55:19,874 : INFO : EPOCH 5 - PROGRESS: at 26.18% examples, 827584 words/s, in_qsize 7, out_qsize 0\n",
      "2018-12-07 20:55:20,876 : INFO : EPOCH 5 - PROGRESS: at 32.86% examples, 830091 words/s, in_qsize 7, out_qsize 0\n",
      "2018-12-07 20:55:21,888 : INFO : EPOCH 5 - PROGRESS: at 39.48% examples, 830783 words/s, in_qsize 7, out_qsize 0\n",
      "2018-12-07 20:55:22,901 : INFO : EPOCH 5 - PROGRESS: at 45.89% examples, 828104 words/s, in_qsize 7, out_qsize 0\n",
      "2018-12-07 20:55:23,908 : INFO : EPOCH 5 - PROGRESS: at 51.65% examples, 816020 words/s, in_qsize 7, out_qsize 0\n",
      "2018-12-07 20:55:24,919 : INFO : EPOCH 5 - PROGRESS: at 58.07% examples, 816379 words/s, in_qsize 7, out_qsize 0\n",
      "2018-12-07 20:55:25,941 : INFO : EPOCH 5 - PROGRESS: at 64.22% examples, 811677 words/s, in_qsize 7, out_qsize 0\n",
      "2018-12-07 20:55:26,962 : INFO : EPOCH 5 - PROGRESS: at 69.87% examples, 802105 words/s, in_qsize 7, out_qsize 0\n",
      "2018-12-07 20:55:27,974 : INFO : EPOCH 5 - PROGRESS: at 75.53% examples, 794762 words/s, in_qsize 7, out_qsize 0\n",
      "2018-12-07 20:55:28,986 : INFO : EPOCH 5 - PROGRESS: at 81.59% examples, 792324 words/s, in_qsize 8, out_qsize 1\n",
      "2018-12-07 20:55:29,988 : INFO : EPOCH 5 - PROGRESS: at 88.18% examples, 795860 words/s, in_qsize 7, out_qsize 0\n",
      "2018-12-07 20:55:31,000 : INFO : EPOCH 5 - PROGRESS: at 94.83% examples, 798377 words/s, in_qsize 7, out_qsize 0\n",
      "2018-12-07 20:55:31,764 : INFO : worker thread finished; awaiting finish of 3 more threads\n",
      "2018-12-07 20:55:31,775 : INFO : worker thread finished; awaiting finish of 2 more threads\n",
      "2018-12-07 20:55:31,777 : INFO : worker thread finished; awaiting finish of 1 more threads\n",
      "2018-12-07 20:55:31,784 : INFO : worker thread finished; awaiting finish of 0 more threads\n",
      "2018-12-07 20:55:31,785 : INFO : EPOCH - 5 : training on 17798269 raw words (12748975 effective words) took 15.9s, 800778 effective words/s\n",
      "2018-12-07 20:55:31,785 : INFO : training on a 88991345 raw words (63750355 effective words) took 74.2s, 859714 effective words/s\n",
      "2018-12-07 20:55:31,786 : INFO : precomputing L2-norms of word weight vectors\n",
      "2018-12-07 20:55:31,933 : INFO : saving Word2Vec object under 300features_4minwords_10context, separately None\n",
      "2018-12-07 20:55:31,934 : INFO : not storing attribute vectors_norm\n",
      "2018-12-07 20:55:31,934 : INFO : not storing attribute cum_table\n",
      "2018-12-07 20:55:32,264 : INFO : saved 300features_4minwords_10context\n"
     ]
    }
   ],
   "source": [
    "from gensim.models import word2vec\n",
    "model = word2vec.Word2Vec(sentences, workers=num_workers, \\\n",
    "                         size=num_features, min_count=min_word_count, \\\n",
    "                         window=context, sample=downsampling)\n",
    "model.init_sims(replace=True)\n",
    "# save the model for later use. You can load it later using Word2Vec.load()\n",
    "model_name = '300features_4minwords_10context'\n",
    "model.save(model_name)"
   ]
  },
  {
   "cell_type": "code",
   "execution_count": 12,
   "metadata": {},
   "outputs": [
    {
     "name": "stderr",
     "output_type": "stream",
     "text": [
      "/home/svet/mainenv/lib/python3.6/site-packages/ipykernel_launcher.py:1: DeprecationWarning: Call to deprecated `doesnt_match` (Method will be removed in 4.0.0, use self.wv.doesnt_match() instead).\n",
      "  \"\"\"Entry point for launching an IPython kernel.\n",
      "/home/svet/mainenv/lib/python3.6/site-packages/gensim/matutils.py:737: FutureWarning: Conversion of the second argument of issubdtype from `int` to `np.signedinteger` is deprecated. In future, it will be treated as `np.int64 == np.dtype(int).type`.\n",
      "  if np.issubdtype(vec.dtype, np.int):\n"
     ]
    },
    {
     "data": {
      "text/plain": [
       "'kitchen'"
      ]
     },
     "execution_count": 12,
     "metadata": {},
     "output_type": "execute_result"
    }
   ],
   "source": [
    "model.doesnt_match(\"man woman child kitchen\".split())"
   ]
  },
  {
   "cell_type": "code",
   "execution_count": 13,
   "metadata": {},
   "outputs": [
    {
     "data": {
      "text/plain": [
       "'paris'"
      ]
     },
     "execution_count": 13,
     "metadata": {},
     "output_type": "execute_result"
    }
   ],
   "source": [
    "model.wv.doesnt_match(\"paris berlin london austria\".split())"
   ]
  },
  {
   "cell_type": "code",
   "execution_count": 14,
   "metadata": {},
   "outputs": [
    {
     "name": "stderr",
     "output_type": "stream",
     "text": [
      "/home/svet/mainenv/lib/python3.6/site-packages/ipykernel_launcher.py:1: DeprecationWarning: Call to deprecated `most_similar` (Method will be removed in 4.0.0, use self.wv.most_similar() instead).\n",
      "  \"\"\"Entry point for launching an IPython kernel.\n"
     ]
    },
    {
     "data": {
      "text/plain": [
       "[('woman', 0.6218355894088745),\n",
       " ('lad', 0.5990434288978577),\n",
       " ('lady', 0.5910966396331787),\n",
       " ('monk', 0.5624364614486694),\n",
       " ('farmer', 0.5293810963630676),\n",
       " ('millionaire', 0.5276523232460022),\n",
       " ('guy', 0.5180503726005554),\n",
       " ('businessman', 0.5171743631362915),\n",
       " ('men', 0.5165083408355713),\n",
       " ('chap', 0.5128926038742065)]"
      ]
     },
     "execution_count": 14,
     "metadata": {},
     "output_type": "execute_result"
    }
   ],
   "source": [
    "model.most_similar('man')"
   ]
  },
  {
   "cell_type": "code",
   "execution_count": 20,
   "metadata": {},
   "outputs": [
    {
     "data": {
      "text/plain": [
       "[('feisty', 0.7366248369216919),\n",
       " ('ditsy', 0.7355793714523315),\n",
       " ('slutty', 0.7325215339660645),\n",
       " ('spunky', 0.7284106612205505),\n",
       " ('conniving', 0.728180468082428),\n",
       " ('perky', 0.7271960973739624),\n",
       " ('virginal', 0.7268636226654053),\n",
       " ('neurotic', 0.7111197710037231),\n",
       " ('bimbo', 0.7092329859733582),\n",
       " ('slut', 0.7013981342315674)]"
      ]
     },
     "execution_count": 20,
     "metadata": {},
     "output_type": "execute_result"
    }
   ],
   "source": [
    "model.wv.most_similar('bitchy')"
   ]
  },
  {
   "cell_type": "code",
   "execution_count": 21,
   "metadata": {},
   "outputs": [],
   "source": [
    "# Load the model that we created in Part 2\n",
    "# from gensim.models import Word2Vec\n",
    "# model = Word2Vec.load(\"300features_40minwords_10context\")"
   ]
  },
  {
   "cell_type": "code",
   "execution_count": 27,
   "metadata": {},
   "outputs": [],
   "source": [
    "import numpy as np\n",
    "# Function to average all of the word vectors in a given paragraph\n",
    "def makeFeatureVec(words, model, num_features):\n",
    "    featureVec = np.zeros((num_features,), dtype='float32')\n",
    "    nwords = 0\n",
    "    index2word_set = set(model.wv.index2word)\n",
    "    for word in words:\n",
    "        if word in index2word_set:\n",
    "            nwords = nwords + 1\n",
    "            featureVec = np.add(featureVec, model[word])\n",
    "    featureVec = np.divide(featureVec, nwords)\n",
    "    return featureVec"
   ]
  },
  {
   "cell_type": "code",
   "execution_count": 28,
   "metadata": {},
   "outputs": [],
   "source": [
    "def getAvgFeatureVecs(reviews, model, num_features):\n",
    "    counter = 0\n",
    "    reviewFeatureVecs = np.zeros((len(reviews), num_features), dtype='float32')\n",
    "    for review in reviews:\n",
    "        reviewFeatureVecs[counter] = makeFeatureVec(review, model, num_features)\n",
    "        counter = counter + 1\n",
    "    return reviewFeatureVecs"
   ]
  },
  {
   "cell_type": "code",
   "execution_count": 29,
   "metadata": {},
   "outputs": [
    {
     "name": "stderr",
     "output_type": "stream",
     "text": [
      "/home/svet/mainenv/lib/python3.6/site-packages/ipykernel_launcher.py:10: DeprecationWarning: Call to deprecated `__getitem__` (Method will be removed in 4.0.0, use self.wv.__getitem__() instead).\n",
      "  # Remove the CWD from sys.path while we load stuff.\n"
     ]
    }
   ],
   "source": [
    "clean_train_reviews = []\n",
    "for review in train['review']:\n",
    "    clean_train_reviews.append(review_to_wordlist(review, remove_stopwords=True))\n",
    "trainDataVecs = getAvgFeatureVecs(clean_train_reviews, model, num_features)\n",
    "\n",
    "clean_test_reviews = []\n",
    "for review in test['review']:\n",
    "    clean_test_reviews.append(review_to_wordlist(review, remove_stopwords=True))\n",
    "testDataVecs = getAvgFeatureVecs(clean_test_reviews, model, num_features)"
   ]
  },
  {
   "cell_type": "code",
   "execution_count": 30,
   "metadata": {},
   "outputs": [],
   "source": [
    "from sklearn.ensemble import RandomForestClassifier\n",
    "forest = RandomForestClassifier(n_estimators=100)\n",
    "\n",
    "forest = forest.fit( trainDataVecs, train[\"sentiment\"] )\n",
    "result = forest.predict(testDataVecs)"
   ]
  },
  {
   "cell_type": "code",
   "execution_count": 31,
   "metadata": {},
   "outputs": [],
   "source": [
    "output = pd.DataFrame(data={\"id\":test[\"id\"], \"sentiment\":result})\n",
    "output.to_csv(\"Word2Vec_AverageVectors.csv\", index=False, quoting=3)"
   ]
  },
  {
   "cell_type": "code",
   "execution_count": null,
   "metadata": {},
   "outputs": [],
   "source": []
  }
 ],
 "metadata": {
  "kernelspec": {
   "display_name": "Python 3",
   "language": "python",
   "name": "python3"
  },
  "language_info": {
   "codemirror_mode": {
    "name": "ipython",
    "version": 3
   },
   "file_extension": ".py",
   "mimetype": "text/x-python",
   "name": "python",
   "nbconvert_exporter": "python",
   "pygments_lexer": "ipython3",
   "version": "3.6.7"
  }
 },
 "nbformat": 4,
 "nbformat_minor": 2
}
