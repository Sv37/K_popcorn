{
 "cells": [
  {
   "cell_type": "code",
   "execution_count": 1,
   "metadata": {},
   "outputs": [],
   "source": [
    "import pandas as pd\n",
    "from bs4 import BeautifulSoup\n",
    "import re\n",
    "from nltk.corpus import stopwords"
   ]
  },
  {
   "cell_type": "code",
   "execution_count": 3,
   "metadata": {},
   "outputs": [],
   "source": [
    "train = pd.read_csv(\"~/Documents/kaggle/popcorn/data/labeledTrainData.tsv\", header=0, delimiter=\"\\t\", quoting=3)\n",
    "test = pd.read_csv(\"~/Documents/kaggle/popcorn/data/testData.tsv\", header=0, delimiter=\"\\t\", quoting=3)\n",
    "unlabeled_train = pd.read_csv(\"~/Documents/kaggle/popcorn/data/unlabeledTrainData.tsv\", header=0, delimiter=\"\\t\", quoting=3)"
   ]
  },
  {
   "cell_type": "code",
   "execution_count": 4,
   "metadata": {},
   "outputs": [],
   "source": [
    "def review_to_wordlist(review, remove_stopwords=False):\n",
    "    review_text = BeautifulSoup(review).get_text()\n",
    "    review_text = re.sub('[^a-zA-Z]', ' ', review_text)\n",
    "    words = review_text.lower().split()\n",
    "    if remove_stopwords:\n",
    "        stops = set(stopwords.words('english'))\n",
    "        words = [w for w in words if not w in stops]\n",
    "    return(words)"
   ]
  },
  {
   "cell_type": "code",
   "execution_count": 5,
   "metadata": {},
   "outputs": [],
   "source": [
    "import nltk.data\n",
    "tokenizer = nltk.data.load('tokenizers/punkt/english.pickle')"
   ]
  },
  {
   "cell_type": "code",
   "execution_count": 6,
   "metadata": {},
   "outputs": [],
   "source": [
    "def review_to_sentences(review, tokenizer, remove_stopwords=False):\n",
    "    raw_sentences = tokenizer.tokenize(review.strip())\n",
    "    sentences = []\n",
    "    for raw_sentence in raw_sentences:\n",
    "        if len(raw_sentence) > 0:\n",
    "            sentences.append(review_to_wordlist(raw_sentence, remove_stopwords))\n",
    "    return sentences"
   ]
  },
  {
   "cell_type": "code",
   "execution_count": 7,
   "metadata": {},
   "outputs": [
    {
     "name": "stderr",
     "output_type": "stream",
     "text": [
      "/home/svet/mainenv/lib/python3.6/site-packages/bs4/__init__.py:273: UserWarning: \"b'.'\" looks like a filename, not markup. You should probably open this file and pass the filehandle into Beautiful Soup.\n",
      "  ' Beautiful Soup.' % markup)\n",
      "/home/svet/mainenv/lib/python3.6/site-packages/bs4/__init__.py:336: UserWarning: \"http://www.happierabroad.com\"\" looks like a URL. Beautiful Soup is not an HTTP client. You should probably use an HTTP client like requests to get the document behind the URL, and feed that document to Beautiful Soup.\n",
      "  ' that document to Beautiful Soup.' % decoded_markup\n",
      "/home/svet/mainenv/lib/python3.6/site-packages/bs4/__init__.py:336: UserWarning: \"http://www.archive.org/details/LovefromaStranger\"\" looks like a URL. Beautiful Soup is not an HTTP client. You should probably use an HTTP client like requests to get the document behind the URL, and feed that document to Beautiful Soup.\n",
      "  ' that document to Beautiful Soup.' % decoded_markup\n",
      "/home/svet/mainenv/lib/python3.6/site-packages/bs4/__init__.py:336: UserWarning: \"http://www.loosechangeguide.com/LooseChangeGuide.html\"\" looks like a URL. Beautiful Soup is not an HTTP client. You should probably use an HTTP client like requests to get the document behind the URL, and feed that document to Beautiful Soup.\n",
      "  ' that document to Beautiful Soup.' % decoded_markup\n",
      "/home/svet/mainenv/lib/python3.6/site-packages/bs4/__init__.py:336: UserWarning: \"http://www.msnbc.msn.com/id/4972055/site/newsweek/\"\" looks like a URL. Beautiful Soup is not an HTTP client. You should probably use an HTTP client like requests to get the document behind the URL, and feed that document to Beautiful Soup.\n",
      "  ' that document to Beautiful Soup.' % decoded_markup\n",
      "/home/svet/mainenv/lib/python3.6/site-packages/bs4/__init__.py:273: UserWarning: \"b'..'\" looks like a filename, not markup. You should probably open this file and pass the filehandle into Beautiful Soup.\n",
      "  ' Beautiful Soup.' % markup)\n",
      "/home/svet/mainenv/lib/python3.6/site-packages/bs4/__init__.py:336: UserWarning: \"http://www.youtube.com/watch?v=a0KSqelmgN8\"\" looks like a URL. Beautiful Soup is not an HTTP client. You should probably use an HTTP client like requests to get the document behind the URL, and feed that document to Beautiful Soup.\n",
      "  ' that document to Beautiful Soup.' % decoded_markup\n",
      "/home/svet/mainenv/lib/python3.6/site-packages/bs4/__init__.py:336: UserWarning: \"http://jake-weird.blogspot.com/2007/08/beneath.html\"\" looks like a URL. Beautiful Soup is not an HTTP client. You should probably use an HTTP client like requests to get the document behind the URL, and feed that document to Beautiful Soup.\n",
      "  ' that document to Beautiful Soup.' % decoded_markup\n"
     ]
    }
   ],
   "source": [
    "sentences = []\n",
    "for review in train['review']:\n",
    "    sentences += review_to_sentences(review, tokenizer)\n",
    "for review in unlabeled_train['review']:\n",
    "    sentences += review_to_sentences(review, tokenizer)"
   ]
  },
  {
   "cell_type": "code",
   "execution_count": 7,
   "metadata": {},
   "outputs": [
    {
     "data": {
      "text/plain": [
       "795538"
      ]
     },
     "execution_count": 7,
     "metadata": {},
     "output_type": "execute_result"
    }
   ],
   "source": [
    "len(sentences)"
   ]
  },
  {
   "cell_type": "markdown",
   "metadata": {},
   "source": [
    "# w2v"
   ]
  },
  {
   "cell_type": "code",
   "execution_count": 8,
   "metadata": {},
   "outputs": [],
   "source": [
    "import logging\n",
    "logging.basicConfig(format='%(asctime)s : %(levelname)s : %(message)s', level=logging.INFO)\n",
    "\n",
    "# Set values for various parameters\n",
    "num_features = 300    # Word vector dimensionality                      \n",
    "min_word_count = 40   # Minimum word count                        \n",
    "num_workers = 4       # Number of threads to run in parallel\n",
    "context = 10          # Context window size                                                                                    \n",
    "downsampling = 1e-3   # Downsample setting for frequent words"
   ]
  },
  {
   "cell_type": "code",
   "execution_count": 9,
   "metadata": {},
   "outputs": [
    {
     "name": "stderr",
     "output_type": "stream",
     "text": [
      "2018-12-09 14:58:30,632 : INFO : collecting all words and their counts\n",
      "2018-12-09 14:58:30,634 : INFO : PROGRESS: at sentence #0, processed 0 words, keeping 0 word types\n",
      "2018-12-09 14:58:30,685 : INFO : PROGRESS: at sentence #10000, processed 225803 words, keeping 17776 word types\n",
      "2018-12-09 14:58:30,732 : INFO : PROGRESS: at sentence #20000, processed 451892 words, keeping 24948 word types\n",
      "2018-12-09 14:58:30,777 : INFO : PROGRESS: at sentence #30000, processed 671314 words, keeping 30034 word types\n",
      "2018-12-09 14:58:30,826 : INFO : PROGRESS: at sentence #40000, processed 897814 words, keeping 34348 word types\n",
      "2018-12-09 14:58:30,877 : INFO : PROGRESS: at sentence #50000, processed 1116962 words, keeping 37761 word types\n",
      "2018-12-09 14:58:30,922 : INFO : PROGRESS: at sentence #60000, processed 1338403 words, keeping 40723 word types\n",
      "2018-12-09 14:58:30,969 : INFO : PROGRESS: at sentence #70000, processed 1561579 words, keeping 43333 word types\n",
      "2018-12-09 14:58:31,012 : INFO : PROGRESS: at sentence #80000, processed 1780886 words, keeping 45714 word types\n",
      "2018-12-09 14:58:31,057 : INFO : PROGRESS: at sentence #90000, processed 2004995 words, keeping 48135 word types\n",
      "2018-12-09 14:58:31,102 : INFO : PROGRESS: at sentence #100000, processed 2226966 words, keeping 50207 word types\n",
      "2018-12-09 14:58:31,146 : INFO : PROGRESS: at sentence #110000, processed 2446580 words, keeping 52081 word types\n",
      "2018-12-09 14:58:31,192 : INFO : PROGRESS: at sentence #120000, processed 2668775 words, keeping 54119 word types\n",
      "2018-12-09 14:58:31,239 : INFO : PROGRESS: at sentence #130000, processed 2894303 words, keeping 55847 word types\n",
      "2018-12-09 14:58:31,282 : INFO : PROGRESS: at sentence #140000, processed 3107005 words, keeping 57346 word types\n",
      "2018-12-09 14:58:31,328 : INFO : PROGRESS: at sentence #150000, processed 3332627 words, keeping 59055 word types\n",
      "2018-12-09 14:58:31,373 : INFO : PROGRESS: at sentence #160000, processed 3555315 words, keeping 60617 word types\n",
      "2018-12-09 14:58:31,418 : INFO : PROGRESS: at sentence #170000, processed 3778655 words, keeping 62077 word types\n",
      "2018-12-09 14:58:31,464 : INFO : PROGRESS: at sentence #180000, processed 3999236 words, keeping 63496 word types\n",
      "2018-12-09 14:58:31,511 : INFO : PROGRESS: at sentence #190000, processed 4224449 words, keeping 64794 word types\n",
      "2018-12-09 14:58:31,558 : INFO : PROGRESS: at sentence #200000, processed 4448603 words, keeping 66087 word types\n",
      "2018-12-09 14:58:31,601 : INFO : PROGRESS: at sentence #210000, processed 4669967 words, keeping 67390 word types\n",
      "2018-12-09 14:58:31,646 : INFO : PROGRESS: at sentence #220000, processed 4894968 words, keeping 68697 word types\n",
      "2018-12-09 14:58:31,692 : INFO : PROGRESS: at sentence #230000, processed 5117546 words, keeping 69958 word types\n",
      "2018-12-09 14:58:31,738 : INFO : PROGRESS: at sentence #240000, processed 5345051 words, keeping 71167 word types\n",
      "2018-12-09 14:58:31,781 : INFO : PROGRESS: at sentence #250000, processed 5559166 words, keeping 72351 word types\n",
      "2018-12-09 14:58:31,826 : INFO : PROGRESS: at sentence #260000, processed 5779147 words, keeping 73478 word types\n",
      "2018-12-09 14:58:31,871 : INFO : PROGRESS: at sentence #270000, processed 6000436 words, keeping 74767 word types\n",
      "2018-12-09 14:58:31,918 : INFO : PROGRESS: at sentence #280000, processed 6226315 words, keeping 76369 word types\n",
      "2018-12-09 14:58:31,964 : INFO : PROGRESS: at sentence #290000, processed 6449475 words, keeping 77839 word types\n",
      "2018-12-09 14:58:32,010 : INFO : PROGRESS: at sentence #300000, processed 6674078 words, keeping 79171 word types\n",
      "2018-12-09 14:58:32,062 : INFO : PROGRESS: at sentence #310000, processed 6899392 words, keeping 80480 word types\n",
      "2018-12-09 14:58:32,106 : INFO : PROGRESS: at sentence #320000, processed 7124279 words, keeping 81808 word types\n",
      "2018-12-09 14:58:32,151 : INFO : PROGRESS: at sentence #330000, processed 7346022 words, keeping 83030 word types\n",
      "2018-12-09 14:58:32,198 : INFO : PROGRESS: at sentence #340000, processed 7575534 words, keeping 84280 word types\n",
      "2018-12-09 14:58:32,246 : INFO : PROGRESS: at sentence #350000, processed 7798804 words, keeping 85425 word types\n",
      "2018-12-09 14:58:32,292 : INFO : PROGRESS: at sentence #360000, processed 8019467 words, keeping 86596 word types\n",
      "2018-12-09 14:58:32,342 : INFO : PROGRESS: at sentence #370000, processed 8246659 words, keeping 87708 word types\n",
      "2018-12-09 14:58:32,390 : INFO : PROGRESS: at sentence #380000, processed 8471806 words, keeping 88878 word types\n",
      "2018-12-09 14:58:32,439 : INFO : PROGRESS: at sentence #390000, processed 8701556 words, keeping 89907 word types\n",
      "2018-12-09 14:58:32,482 : INFO : PROGRESS: at sentence #400000, processed 8924505 words, keeping 90916 word types\n",
      "2018-12-09 14:58:32,528 : INFO : PROGRESS: at sentence #410000, processed 9145855 words, keeping 91880 word types\n",
      "2018-12-09 14:58:32,575 : INFO : PROGRESS: at sentence #420000, processed 9366935 words, keeping 92912 word types\n",
      "2018-12-09 14:58:32,621 : INFO : PROGRESS: at sentence #430000, processed 9594472 words, keeping 93932 word types\n",
      "2018-12-09 14:58:32,671 : INFO : PROGRESS: at sentence #440000, processed 9821225 words, keeping 94906 word types\n",
      "2018-12-09 14:58:32,716 : INFO : PROGRESS: at sentence #450000, processed 10044987 words, keeping 96036 word types\n",
      "2018-12-09 14:58:32,762 : INFO : PROGRESS: at sentence #460000, processed 10277747 words, keeping 97088 word types\n",
      "2018-12-09 14:58:32,809 : INFO : PROGRESS: at sentence #470000, processed 10505672 words, keeping 97933 word types\n",
      "2018-12-09 14:58:32,855 : INFO : PROGRESS: at sentence #480000, processed 10726056 words, keeping 98862 word types\n",
      "2018-12-09 14:58:32,902 : INFO : PROGRESS: at sentence #490000, processed 10952800 words, keeping 99871 word types\n",
      "2018-12-09 14:58:32,949 : INFO : PROGRESS: at sentence #500000, processed 11174456 words, keeping 100765 word types\n",
      "2018-12-09 14:58:32,995 : INFO : PROGRESS: at sentence #510000, processed 11399731 words, keeping 101699 word types\n",
      "2018-12-09 14:58:33,043 : INFO : PROGRESS: at sentence #520000, processed 11623082 words, keeping 102598 word types\n",
      "2018-12-09 14:58:33,101 : INFO : PROGRESS: at sentence #530000, processed 11847480 words, keeping 103400 word types\n",
      "2018-12-09 14:58:33,149 : INFO : PROGRESS: at sentence #540000, processed 12072095 words, keeping 104265 word types\n",
      "2018-12-09 14:58:33,201 : INFO : PROGRESS: at sentence #550000, processed 12297646 words, keeping 105133 word types\n",
      "2018-12-09 14:58:33,263 : INFO : PROGRESS: at sentence #560000, processed 12518936 words, keeping 105997 word types\n",
      "2018-12-09 14:58:33,320 : INFO : PROGRESS: at sentence #570000, processed 12748083 words, keeping 106787 word types\n",
      "2018-12-09 14:58:33,381 : INFO : PROGRESS: at sentence #580000, processed 12969579 words, keeping 107665 word types\n",
      "2018-12-09 14:58:33,439 : INFO : PROGRESS: at sentence #590000, processed 13195103 words, keeping 108502 word types\n",
      "2018-12-09 14:58:33,497 : INFO : PROGRESS: at sentence #600000, processed 13417301 words, keeping 109219 word types\n",
      "2018-12-09 14:58:33,554 : INFO : PROGRESS: at sentence #610000, processed 13638324 words, keeping 110093 word types\n",
      "2018-12-09 14:58:33,614 : INFO : PROGRESS: at sentence #620000, processed 13864649 words, keeping 110838 word types\n",
      "2018-12-09 14:58:33,671 : INFO : PROGRESS: at sentence #630000, processed 14088935 words, keeping 111611 word types\n",
      "2018-12-09 14:58:33,731 : INFO : PROGRESS: at sentence #640000, processed 14309718 words, keeping 112417 word types\n",
      "2018-12-09 14:58:33,789 : INFO : PROGRESS: at sentence #650000, processed 14535474 words, keeping 113197 word types\n",
      "2018-12-09 14:58:33,848 : INFO : PROGRESS: at sentence #660000, processed 14758264 words, keeping 113946 word types\n",
      "2018-12-09 14:58:33,906 : INFO : PROGRESS: at sentence #670000, processed 14981657 words, keeping 114644 word types\n",
      "2018-12-09 14:58:33,965 : INFO : PROGRESS: at sentence #680000, processed 15206489 words, keeping 115355 word types\n",
      "2018-12-09 14:58:34,025 : INFO : PROGRESS: at sentence #690000, processed 15428682 words, keeping 116132 word types\n",
      "2018-12-09 14:58:34,089 : INFO : PROGRESS: at sentence #700000, processed 15657388 words, keeping 116944 word types\n",
      "2018-12-09 14:58:34,146 : INFO : PROGRESS: at sentence #710000, processed 15880377 words, keeping 117597 word types\n"
     ]
    },
    {
     "name": "stderr",
     "output_type": "stream",
     "text": [
      "2018-12-09 14:58:34,210 : INFO : PROGRESS: at sentence #720000, processed 16105664 words, keeping 118222 word types\n",
      "2018-12-09 14:58:34,281 : INFO : PROGRESS: at sentence #730000, processed 16332045 words, keeping 118955 word types\n",
      "2018-12-09 14:58:34,344 : INFO : PROGRESS: at sentence #740000, processed 16553078 words, keeping 119669 word types\n",
      "2018-12-09 14:58:34,404 : INFO : PROGRESS: at sentence #750000, processed 16771405 words, keeping 120296 word types\n",
      "2018-12-09 14:58:34,465 : INFO : PROGRESS: at sentence #760000, processed 16990809 words, keeping 120931 word types\n",
      "2018-12-09 14:58:34,526 : INFO : PROGRESS: at sentence #770000, processed 17217946 words, keeping 121704 word types\n",
      "2018-12-09 14:58:34,586 : INFO : PROGRESS: at sentence #780000, processed 17448092 words, keeping 122403 word types\n",
      "2018-12-09 14:58:34,646 : INFO : PROGRESS: at sentence #790000, processed 17675168 words, keeping 123067 word types\n",
      "2018-12-09 14:58:34,678 : INFO : collected 123505 word types from a corpus of 17798269 raw words and 795538 sentences\n",
      "2018-12-09 14:58:34,679 : INFO : Loading a fresh vocabulary\n",
      "2018-12-09 14:58:34,748 : INFO : effective_min_count=40 retains 16490 unique words (13% of original 123505, drops 107015)\n",
      "2018-12-09 14:58:34,748 : INFO : effective_min_count=40 leaves 17239123 word corpus (96% of original 17798269, drops 559146)\n",
      "2018-12-09 14:58:34,795 : INFO : deleting the raw counts dictionary of 123505 items\n",
      "2018-12-09 14:58:34,798 : INFO : sample=0.001 downsamples 48 most-common words\n",
      "2018-12-09 14:58:34,799 : INFO : downsampling leaves estimated 12749797 word corpus (74.0% of prior 17239123)\n",
      "2018-12-09 14:58:34,842 : INFO : estimated required memory for 16490 words and 300 dimensions: 47821000 bytes\n",
      "2018-12-09 14:58:34,843 : INFO : resetting layer weights\n",
      "2018-12-09 14:58:35,017 : INFO : training model with 4 workers on 16490 vocabulary and 300 features, using sg=0 hs=0 sample=0.001 negative=5 window=10\n",
      "2018-12-09 14:58:36,030 : INFO : EPOCH 1 - PROGRESS: at 5.81% examples, 737469 words/s, in_qsize 7, out_qsize 0\n",
      "2018-12-09 14:58:37,036 : INFO : EPOCH 1 - PROGRESS: at 13.88% examples, 873551 words/s, in_qsize 7, out_qsize 0\n",
      "2018-12-09 14:58:38,041 : INFO : EPOCH 1 - PROGRESS: at 20.22% examples, 847669 words/s, in_qsize 7, out_qsize 0\n",
      "2018-12-09 14:58:39,044 : INFO : EPOCH 1 - PROGRESS: at 28.31% examples, 892319 words/s, in_qsize 7, out_qsize 0\n",
      "2018-12-09 14:58:40,048 : INFO : EPOCH 1 - PROGRESS: at 34.60% examples, 871962 words/s, in_qsize 7, out_qsize 0\n",
      "2018-12-09 14:58:41,050 : INFO : EPOCH 1 - PROGRESS: at 41.31% examples, 869406 words/s, in_qsize 7, out_qsize 0\n",
      "2018-12-09 14:58:42,060 : INFO : EPOCH 1 - PROGRESS: at 48.99% examples, 884782 words/s, in_qsize 7, out_qsize 0\n",
      "2018-12-09 14:58:43,062 : INFO : EPOCH 1 - PROGRESS: at 56.77% examples, 898018 words/s, in_qsize 7, out_qsize 0\n",
      "2018-12-09 14:58:44,075 : INFO : EPOCH 1 - PROGRESS: at 64.83% examples, 912025 words/s, in_qsize 7, out_qsize 0\n",
      "2018-12-09 14:58:45,075 : INFO : EPOCH 1 - PROGRESS: at 72.89% examples, 923751 words/s, in_qsize 6, out_qsize 1\n",
      "2018-12-09 14:58:46,078 : INFO : EPOCH 1 - PROGRESS: at 80.53% examples, 927984 words/s, in_qsize 7, out_qsize 0\n",
      "2018-12-09 14:58:47,081 : INFO : EPOCH 1 - PROGRESS: at 88.63% examples, 936761 words/s, in_qsize 7, out_qsize 0\n",
      "2018-12-09 14:58:48,083 : INFO : EPOCH 1 - PROGRESS: at 96.14% examples, 937729 words/s, in_qsize 7, out_qsize 0\n",
      "2018-12-09 14:58:48,546 : INFO : worker thread finished; awaiting finish of 3 more threads\n",
      "2018-12-09 14:58:48,549 : INFO : worker thread finished; awaiting finish of 2 more threads\n",
      "2018-12-09 14:58:48,568 : INFO : worker thread finished; awaiting finish of 1 more threads\n",
      "2018-12-09 14:58:48,569 : INFO : worker thread finished; awaiting finish of 0 more threads\n",
      "2018-12-09 14:58:48,569 : INFO : EPOCH - 1 : training on 17798269 raw words (12748800 effective words) took 13.5s, 941042 effective words/s\n",
      "2018-12-09 14:58:49,577 : INFO : EPOCH 2 - PROGRESS: at 7.88% examples, 1000108 words/s, in_qsize 7, out_qsize 0\n",
      "2018-12-09 14:58:50,577 : INFO : EPOCH 2 - PROGRESS: at 15.90% examples, 1008456 words/s, in_qsize 7, out_qsize 0\n",
      "2018-12-09 14:58:51,577 : INFO : EPOCH 2 - PROGRESS: at 23.88% examples, 1008230 words/s, in_qsize 7, out_qsize 0\n",
      "2018-12-09 14:58:52,583 : INFO : EPOCH 2 - PROGRESS: at 30.44% examples, 963826 words/s, in_qsize 7, out_qsize 0\n",
      "2018-12-09 14:58:53,583 : INFO : EPOCH 2 - PROGRESS: at 36.40% examples, 920985 words/s, in_qsize 7, out_qsize 0\n",
      "2018-12-09 14:58:54,586 : INFO : EPOCH 2 - PROGRESS: at 42.86% examples, 905473 words/s, in_qsize 7, out_qsize 0\n",
      "2018-12-09 14:58:55,589 : INFO : EPOCH 2 - PROGRESS: at 49.33% examples, 894321 words/s, in_qsize 7, out_qsize 0\n",
      "2018-12-09 14:58:56,591 : INFO : EPOCH 2 - PROGRESS: at 55.89% examples, 886898 words/s, in_qsize 7, out_qsize 0\n",
      "2018-12-09 14:58:57,595 : INFO : EPOCH 2 - PROGRESS: at 62.25% examples, 879340 words/s, in_qsize 7, out_qsize 0\n",
      "2018-12-09 14:58:58,598 : INFO : EPOCH 2 - PROGRESS: at 68.21% examples, 866954 words/s, in_qsize 7, out_qsize 0\n",
      "2018-12-09 14:58:59,616 : INFO : EPOCH 2 - PROGRESS: at 74.57% examples, 860903 words/s, in_qsize 7, out_qsize 0\n",
      "2018-12-09 14:59:00,625 : INFO : EPOCH 2 - PROGRESS: at 81.15% examples, 858218 words/s, in_qsize 7, out_qsize 0\n",
      "2018-12-09 14:59:01,631 : INFO : EPOCH 2 - PROGRESS: at 87.69% examples, 856193 words/s, in_qsize 7, out_qsize 0\n",
      "2018-12-09 14:59:02,638 : INFO : EPOCH 2 - PROGRESS: at 94.27% examples, 854337 words/s, in_qsize 7, out_qsize 0\n",
      "2018-12-09 14:59:03,603 : INFO : worker thread finished; awaiting finish of 3 more threads\n",
      "2018-12-09 14:59:03,608 : INFO : worker thread finished; awaiting finish of 2 more threads\n",
      "2018-12-09 14:59:03,629 : INFO : worker thread finished; awaiting finish of 1 more threads\n",
      "2018-12-09 14:59:03,632 : INFO : worker thread finished; awaiting finish of 0 more threads\n",
      "2018-12-09 14:59:03,632 : INFO : EPOCH - 2 : training on 17798269 raw words (12750655 effective words) took 15.1s, 846843 effective words/s\n",
      "2018-12-09 14:59:04,645 : INFO : EPOCH 3 - PROGRESS: at 6.09% examples, 775944 words/s, in_qsize 8, out_qsize 0\n",
      "2018-12-09 14:59:05,647 : INFO : EPOCH 3 - PROGRESS: at 12.34% examples, 780860 words/s, in_qsize 7, out_qsize 0\n",
      "2018-12-09 14:59:06,659 : INFO : EPOCH 3 - PROGRESS: at 19.04% examples, 798632 words/s, in_qsize 7, out_qsize 0\n",
      "2018-12-09 14:59:07,659 : INFO : EPOCH 3 - PROGRESS: at 24.88% examples, 785091 words/s, in_qsize 7, out_qsize 0\n",
      "2018-12-09 14:59:08,667 : INFO : EPOCH 3 - PROGRESS: at 31.56% examples, 795280 words/s, in_qsize 7, out_qsize 0\n",
      "2018-12-09 14:59:09,678 : INFO : EPOCH 3 - PROGRESS: at 38.06% examples, 799390 words/s, in_qsize 7, out_qsize 0\n",
      "2018-12-09 14:59:10,687 : INFO : EPOCH 3 - PROGRESS: at 44.20% examples, 796598 words/s, in_qsize 7, out_qsize 0\n",
      "2018-12-09 14:59:11,706 : INFO : EPOCH 3 - PROGRESS: at 50.74% examples, 799712 words/s, in_qsize 7, out_qsize 0\n",
      "2018-12-09 14:59:12,710 : INFO : EPOCH 3 - PROGRESS: at 57.26% examples, 803354 words/s, in_qsize 7, out_qsize 0\n",
      "2018-12-09 14:59:13,719 : INFO : EPOCH 3 - PROGRESS: at 63.83% examples, 806585 words/s, in_qsize 7, out_qsize 0\n",
      "2018-12-09 14:59:14,726 : INFO : EPOCH 3 - PROGRESS: at 70.49% examples, 810200 words/s, in_qsize 7, out_qsize 0\n",
      "2018-12-09 14:59:15,745 : INFO : EPOCH 3 - PROGRESS: at 77.10% examples, 811715 words/s, in_qsize 7, out_qsize 0\n",
      "2018-12-09 14:59:16,749 : INFO : EPOCH 3 - PROGRESS: at 83.62% examples, 812850 words/s, in_qsize 7, out_qsize 0\n",
      "2018-12-09 14:59:17,754 : INFO : EPOCH 3 - PROGRESS: at 90.12% examples, 814276 words/s, in_qsize 7, out_qsize 0\n",
      "2018-12-09 14:59:18,757 : INFO : EPOCH 3 - PROGRESS: at 96.80% examples, 816048 words/s, in_qsize 7, out_qsize 0\n",
      "2018-12-09 14:59:19,219 : INFO : worker thread finished; awaiting finish of 3 more threads\n",
      "2018-12-09 14:59:19,230 : INFO : worker thread finished; awaiting finish of 2 more threads\n",
      "2018-12-09 14:59:19,247 : INFO : worker thread finished; awaiting finish of 1 more threads\n",
      "2018-12-09 14:59:19,248 : INFO : worker thread finished; awaiting finish of 0 more threads\n",
      "2018-12-09 14:59:19,249 : INFO : EPOCH - 3 : training on 17798269 raw words (12750622 effective words) took 15.6s, 816905 effective words/s\n"
     ]
    },
    {
     "name": "stderr",
     "output_type": "stream",
     "text": [
      "2018-12-09 14:59:20,262 : INFO : EPOCH 4 - PROGRESS: at 6.40% examples, 812303 words/s, in_qsize 7, out_qsize 0\n",
      "2018-12-09 14:59:21,275 : INFO : EPOCH 4 - PROGRESS: at 13.03% examples, 819140 words/s, in_qsize 7, out_qsize 0\n",
      "2018-12-09 14:59:22,281 : INFO : EPOCH 4 - PROGRESS: at 19.65% examples, 823422 words/s, in_qsize 7, out_qsize 0\n",
      "2018-12-09 14:59:23,285 : INFO : EPOCH 4 - PROGRESS: at 26.30% examples, 827694 words/s, in_qsize 7, out_qsize 0\n",
      "2018-12-09 14:59:24,285 : INFO : EPOCH 4 - PROGRESS: at 32.97% examples, 830576 words/s, in_qsize 7, out_qsize 0\n",
      "2018-12-09 14:59:25,286 : INFO : EPOCH 4 - PROGRESS: at 39.54% examples, 831540 words/s, in_qsize 7, out_qsize 0\n",
      "2018-12-09 14:59:26,290 : INFO : EPOCH 4 - PROGRESS: at 46.06% examples, 831767 words/s, in_qsize 7, out_qsize 0\n",
      "2018-12-09 14:59:27,296 : INFO : EPOCH 4 - PROGRESS: at 52.67% examples, 832550 words/s, in_qsize 7, out_qsize 0\n",
      "2018-12-09 14:59:28,297 : INFO : EPOCH 4 - PROGRESS: at 59.17% examples, 833759 words/s, in_qsize 7, out_qsize 0\n",
      "2018-12-09 14:59:29,300 : INFO : EPOCH 4 - PROGRESS: at 65.68% examples, 833121 words/s, in_qsize 7, out_qsize 0\n",
      "2018-12-09 14:59:30,305 : INFO : EPOCH 4 - PROGRESS: at 72.20% examples, 833108 words/s, in_qsize 7, out_qsize 0\n",
      "2018-12-09 14:59:31,311 : INFO : EPOCH 4 - PROGRESS: at 78.89% examples, 834212 words/s, in_qsize 7, out_qsize 0\n",
      "2018-12-09 14:59:32,319 : INFO : EPOCH 4 - PROGRESS: at 85.40% examples, 833323 words/s, in_qsize 7, out_qsize 0\n",
      "2018-12-09 14:59:33,325 : INFO : EPOCH 4 - PROGRESS: at 91.98% examples, 833751 words/s, in_qsize 7, out_qsize 0\n",
      "2018-12-09 14:59:34,337 : INFO : EPOCH 4 - PROGRESS: at 98.56% examples, 833276 words/s, in_qsize 7, out_qsize 0\n",
      "2018-12-09 14:59:34,522 : INFO : worker thread finished; awaiting finish of 3 more threads\n",
      "2018-12-09 14:59:34,540 : INFO : worker thread finished; awaiting finish of 2 more threads\n",
      "2018-12-09 14:59:34,545 : INFO : worker thread finished; awaiting finish of 1 more threads\n",
      "2018-12-09 14:59:34,549 : INFO : worker thread finished; awaiting finish of 0 more threads\n",
      "2018-12-09 14:59:34,549 : INFO : EPOCH - 4 : training on 17798269 raw words (12750121 effective words) took 15.3s, 833840 effective words/s\n",
      "2018-12-09 14:59:35,565 : INFO : EPOCH 5 - PROGRESS: at 6.45% examples, 813874 words/s, in_qsize 7, out_qsize 0\n",
      "2018-12-09 14:59:36,581 : INFO : EPOCH 5 - PROGRESS: at 13.03% examples, 815537 words/s, in_qsize 7, out_qsize 0\n",
      "2018-12-09 14:59:37,593 : INFO : EPOCH 5 - PROGRESS: at 19.60% examples, 816838 words/s, in_qsize 7, out_qsize 0\n",
      "2018-12-09 14:59:38,599 : INFO : EPOCH 5 - PROGRESS: at 26.30% examples, 824313 words/s, in_qsize 7, out_qsize 0\n",
      "2018-12-09 14:59:39,599 : INFO : EPOCH 5 - PROGRESS: at 33.03% examples, 829244 words/s, in_qsize 7, out_qsize 0\n",
      "2018-12-09 14:59:40,602 : INFO : EPOCH 5 - PROGRESS: at 39.64% examples, 831209 words/s, in_qsize 7, out_qsize 0\n",
      "2018-12-09 14:59:41,606 : INFO : EPOCH 5 - PROGRESS: at 46.00% examples, 828491 words/s, in_qsize 7, out_qsize 0\n",
      "2018-12-09 14:59:42,612 : INFO : EPOCH 5 - PROGRESS: at 52.54% examples, 828881 words/s, in_qsize 7, out_qsize 0\n",
      "2018-12-09 14:59:43,617 : INFO : EPOCH 5 - PROGRESS: at 58.90% examples, 827639 words/s, in_qsize 7, out_qsize 0\n",
      "2018-12-09 14:59:44,617 : INFO : EPOCH 5 - PROGRESS: at 65.40% examples, 827831 words/s, in_qsize 7, out_qsize 0\n",
      "2018-12-09 14:59:45,620 : INFO : EPOCH 5 - PROGRESS: at 71.82% examples, 827156 words/s, in_qsize 7, out_qsize 0\n",
      "2018-12-09 14:59:46,632 : INFO : EPOCH 5 - PROGRESS: at 78.43% examples, 827730 words/s, in_qsize 7, out_qsize 0\n",
      "2018-12-09 14:59:47,637 : INFO : EPOCH 5 - PROGRESS: at 84.94% examples, 827546 words/s, in_qsize 7, out_qsize 0\n",
      "2018-12-09 14:59:48,653 : INFO : EPOCH 5 - PROGRESS: at 91.65% examples, 828783 words/s, in_qsize 7, out_qsize 0\n",
      "2018-12-09 14:59:49,657 : INFO : EPOCH 5 - PROGRESS: at 98.23% examples, 829097 words/s, in_qsize 7, out_qsize 0\n",
      "2018-12-09 14:59:49,912 : INFO : worker thread finished; awaiting finish of 3 more threads\n",
      "2018-12-09 14:59:49,917 : INFO : worker thread finished; awaiting finish of 2 more threads\n",
      "2018-12-09 14:59:49,922 : INFO : worker thread finished; awaiting finish of 1 more threads\n",
      "2018-12-09 14:59:49,923 : INFO : worker thread finished; awaiting finish of 0 more threads\n",
      "2018-12-09 14:59:49,924 : INFO : EPOCH - 5 : training on 17798269 raw words (12748806 effective words) took 15.4s, 829526 effective words/s\n",
      "2018-12-09 14:59:49,925 : INFO : training on a 88991345 raw words (63749004 effective words) took 74.9s, 851036 effective words/s\n",
      "2018-12-09 14:59:49,926 : INFO : precomputing L2-norms of word weight vectors\n",
      "2018-12-09 14:59:50,078 : INFO : saving Word2Vec object under 300features_4minwords_10context, separately None\n",
      "2018-12-09 14:59:50,078 : INFO : not storing attribute vectors_norm\n",
      "2018-12-09 14:59:50,079 : INFO : not storing attribute cum_table\n",
      "2018-12-09 14:59:50,459 : INFO : saved 300features_4minwords_10context\n"
     ]
    }
   ],
   "source": [
    "from gensim.models import word2vec\n",
    "model = word2vec.Word2Vec(sentences, workers=num_workers, \\\n",
    "                         size=num_features, min_count=min_word_count, \\\n",
    "                         window=context, sample=downsampling)\n",
    "model.init_sims(replace=True)\n",
    "# save the model for later use. You can load it later using Word2Vec.load()\n",
    "model_name = '300features_4minwords_10context'\n",
    "model.save(model_name)"
   ]
  },
  {
   "cell_type": "code",
   "execution_count": 10,
   "metadata": {},
   "outputs": [
    {
     "name": "stderr",
     "output_type": "stream",
     "text": [
      "/home/svet/mainenv/lib/python3.6/site-packages/ipykernel_launcher.py:1: DeprecationWarning: Call to deprecated `doesnt_match` (Method will be removed in 4.0.0, use self.wv.doesnt_match() instead).\n",
      "  \"\"\"Entry point for launching an IPython kernel.\n",
      "/home/svet/mainenv/lib/python3.6/site-packages/gensim/matutils.py:737: FutureWarning: Conversion of the second argument of issubdtype from `int` to `np.signedinteger` is deprecated. In future, it will be treated as `np.int64 == np.dtype(int).type`.\n",
      "  if np.issubdtype(vec.dtype, np.int):\n"
     ]
    },
    {
     "data": {
      "text/plain": [
       "'kitchen'"
      ]
     },
     "execution_count": 10,
     "metadata": {},
     "output_type": "execute_result"
    }
   ],
   "source": [
    "model.doesnt_match(\"man woman child kitchen\".split())"
   ]
  },
  {
   "cell_type": "code",
   "execution_count": 13,
   "metadata": {},
   "outputs": [
    {
     "data": {
      "text/plain": [
       "'paris'"
      ]
     },
     "execution_count": 13,
     "metadata": {},
     "output_type": "execute_result"
    }
   ],
   "source": [
    "model.wv.doesnt_match(\"paris berlin london austria\".split())"
   ]
  },
  {
   "cell_type": "code",
   "execution_count": 14,
   "metadata": {},
   "outputs": [
    {
     "name": "stderr",
     "output_type": "stream",
     "text": [
      "/home/svet/mainenv/lib/python3.6/site-packages/ipykernel_launcher.py:1: DeprecationWarning: Call to deprecated `most_similar` (Method will be removed in 4.0.0, use self.wv.most_similar() instead).\n",
      "  \"\"\"Entry point for launching an IPython kernel.\n"
     ]
    },
    {
     "data": {
      "text/plain": [
       "[('woman', 0.6218355894088745),\n",
       " ('lad', 0.5990434288978577),\n",
       " ('lady', 0.5910966396331787),\n",
       " ('monk', 0.5624364614486694),\n",
       " ('farmer', 0.5293810963630676),\n",
       " ('millionaire', 0.5276523232460022),\n",
       " ('guy', 0.5180503726005554),\n",
       " ('businessman', 0.5171743631362915),\n",
       " ('men', 0.5165083408355713),\n",
       " ('chap', 0.5128926038742065)]"
      ]
     },
     "execution_count": 14,
     "metadata": {},
     "output_type": "execute_result"
    }
   ],
   "source": [
    "model.most_similar('man')"
   ]
  },
  {
   "cell_type": "code",
   "execution_count": 20,
   "metadata": {},
   "outputs": [
    {
     "data": {
      "text/plain": [
       "[('feisty', 0.7366248369216919),\n",
       " ('ditsy', 0.7355793714523315),\n",
       " ('slutty', 0.7325215339660645),\n",
       " ('spunky', 0.7284106612205505),\n",
       " ('conniving', 0.728180468082428),\n",
       " ('perky', 0.7271960973739624),\n",
       " ('virginal', 0.7268636226654053),\n",
       " ('neurotic', 0.7111197710037231),\n",
       " ('bimbo', 0.7092329859733582),\n",
       " ('slut', 0.7013981342315674)]"
      ]
     },
     "execution_count": 20,
     "metadata": {},
     "output_type": "execute_result"
    }
   ],
   "source": [
    "model.wv.most_similar('bitchy')"
   ]
  },
  {
   "cell_type": "markdown",
   "metadata": {},
   "source": [
    "# load model"
   ]
  },
  {
   "cell_type": "code",
   "execution_count": 2,
   "metadata": {},
   "outputs": [
    {
     "ename": "FileNotFoundError",
     "evalue": "[Errno 2] No such file or directory: '300features_40minwords_10context'",
     "output_type": "error",
     "traceback": [
      "\u001b[0;31m---------------------------------------------------------------------------\u001b[0m",
      "\u001b[0;31mFileNotFoundError\u001b[0m                         Traceback (most recent call last)",
      "\u001b[0;32m<ipython-input-2-6eb810613f90>\u001b[0m in \u001b[0;36m<module>\u001b[0;34m\u001b[0m\n\u001b[1;32m      1\u001b[0m \u001b[0;31m# Load the model that we created in Part 2\u001b[0m\u001b[0;34m\u001b[0m\u001b[0;34m\u001b[0m\u001b[0;34m\u001b[0m\u001b[0m\n\u001b[1;32m      2\u001b[0m \u001b[0;32mfrom\u001b[0m \u001b[0mgensim\u001b[0m\u001b[0;34m.\u001b[0m\u001b[0mmodels\u001b[0m \u001b[0;32mimport\u001b[0m \u001b[0mWord2Vec\u001b[0m\u001b[0;34m\u001b[0m\u001b[0;34m\u001b[0m\u001b[0m\n\u001b[0;32m----> 3\u001b[0;31m \u001b[0mmodel\u001b[0m \u001b[0;34m=\u001b[0m \u001b[0mWord2Vec\u001b[0m\u001b[0;34m.\u001b[0m\u001b[0mload\u001b[0m\u001b[0;34m(\u001b[0m\u001b[0;34m\"300features_40minwords_10context\"\u001b[0m\u001b[0;34m)\u001b[0m\u001b[0;34m\u001b[0m\u001b[0;34m\u001b[0m\u001b[0m\n\u001b[0m",
      "\u001b[0;32m~/mainenv/lib/python3.6/site-packages/gensim/models/word2vec.py\u001b[0m in \u001b[0;36mload\u001b[0;34m(cls, *args, **kwargs)\u001b[0m\n\u001b[1;32m   1310\u001b[0m         \"\"\"\n\u001b[1;32m   1311\u001b[0m         \u001b[0;32mtry\u001b[0m\u001b[0;34m:\u001b[0m\u001b[0;34m\u001b[0m\u001b[0;34m\u001b[0m\u001b[0m\n\u001b[0;32m-> 1312\u001b[0;31m             \u001b[0mmodel\u001b[0m \u001b[0;34m=\u001b[0m \u001b[0msuper\u001b[0m\u001b[0;34m(\u001b[0m\u001b[0mWord2Vec\u001b[0m\u001b[0;34m,\u001b[0m \u001b[0mcls\u001b[0m\u001b[0;34m)\u001b[0m\u001b[0;34m.\u001b[0m\u001b[0mload\u001b[0m\u001b[0;34m(\u001b[0m\u001b[0;34m*\u001b[0m\u001b[0margs\u001b[0m\u001b[0;34m,\u001b[0m \u001b[0;34m**\u001b[0m\u001b[0mkwargs\u001b[0m\u001b[0;34m)\u001b[0m\u001b[0;34m\u001b[0m\u001b[0;34m\u001b[0m\u001b[0m\n\u001b[0m\u001b[1;32m   1313\u001b[0m \u001b[0;34m\u001b[0m\u001b[0m\n\u001b[1;32m   1314\u001b[0m             \u001b[0;31m# for backward compatibility for `max_final_vocab` feature\u001b[0m\u001b[0;34m\u001b[0m\u001b[0;34m\u001b[0m\u001b[0;34m\u001b[0m\u001b[0m\n",
      "\u001b[0;32m~/mainenv/lib/python3.6/site-packages/gensim/models/base_any2vec.py\u001b[0m in \u001b[0;36mload\u001b[0;34m(cls, *args, **kwargs)\u001b[0m\n\u001b[1;32m   1242\u001b[0m \u001b[0;34m\u001b[0m\u001b[0m\n\u001b[1;32m   1243\u001b[0m         \"\"\"\n\u001b[0;32m-> 1244\u001b[0;31m         \u001b[0mmodel\u001b[0m \u001b[0;34m=\u001b[0m \u001b[0msuper\u001b[0m\u001b[0;34m(\u001b[0m\u001b[0mBaseWordEmbeddingsModel\u001b[0m\u001b[0;34m,\u001b[0m \u001b[0mcls\u001b[0m\u001b[0;34m)\u001b[0m\u001b[0;34m.\u001b[0m\u001b[0mload\u001b[0m\u001b[0;34m(\u001b[0m\u001b[0;34m*\u001b[0m\u001b[0margs\u001b[0m\u001b[0;34m,\u001b[0m \u001b[0;34m**\u001b[0m\u001b[0mkwargs\u001b[0m\u001b[0;34m)\u001b[0m\u001b[0;34m\u001b[0m\u001b[0;34m\u001b[0m\u001b[0m\n\u001b[0m\u001b[1;32m   1245\u001b[0m         \u001b[0;32mif\u001b[0m \u001b[0;32mnot\u001b[0m \u001b[0mhasattr\u001b[0m\u001b[0;34m(\u001b[0m\u001b[0mmodel\u001b[0m\u001b[0;34m,\u001b[0m \u001b[0;34m'ns_exponent'\u001b[0m\u001b[0;34m)\u001b[0m\u001b[0;34m:\u001b[0m\u001b[0;34m\u001b[0m\u001b[0;34m\u001b[0m\u001b[0m\n\u001b[1;32m   1246\u001b[0m             \u001b[0mmodel\u001b[0m\u001b[0;34m.\u001b[0m\u001b[0mns_exponent\u001b[0m \u001b[0;34m=\u001b[0m \u001b[0;36m0.75\u001b[0m\u001b[0;34m\u001b[0m\u001b[0;34m\u001b[0m\u001b[0m\n",
      "\u001b[0;32m~/mainenv/lib/python3.6/site-packages/gensim/models/base_any2vec.py\u001b[0m in \u001b[0;36mload\u001b[0;34m(cls, fname_or_handle, **kwargs)\u001b[0m\n\u001b[1;32m    601\u001b[0m \u001b[0;34m\u001b[0m\u001b[0m\n\u001b[1;32m    602\u001b[0m         \"\"\"\n\u001b[0;32m--> 603\u001b[0;31m         \u001b[0;32mreturn\u001b[0m \u001b[0msuper\u001b[0m\u001b[0;34m(\u001b[0m\u001b[0mBaseAny2VecModel\u001b[0m\u001b[0;34m,\u001b[0m \u001b[0mcls\u001b[0m\u001b[0;34m)\u001b[0m\u001b[0;34m.\u001b[0m\u001b[0mload\u001b[0m\u001b[0;34m(\u001b[0m\u001b[0mfname_or_handle\u001b[0m\u001b[0;34m,\u001b[0m \u001b[0;34m**\u001b[0m\u001b[0mkwargs\u001b[0m\u001b[0;34m)\u001b[0m\u001b[0;34m\u001b[0m\u001b[0;34m\u001b[0m\u001b[0m\n\u001b[0m\u001b[1;32m    604\u001b[0m \u001b[0;34m\u001b[0m\u001b[0m\n\u001b[1;32m    605\u001b[0m     \u001b[0;32mdef\u001b[0m \u001b[0msave\u001b[0m\u001b[0;34m(\u001b[0m\u001b[0mself\u001b[0m\u001b[0;34m,\u001b[0m \u001b[0mfname_or_handle\u001b[0m\u001b[0;34m,\u001b[0m \u001b[0;34m**\u001b[0m\u001b[0mkwargs\u001b[0m\u001b[0;34m)\u001b[0m\u001b[0;34m:\u001b[0m\u001b[0;34m\u001b[0m\u001b[0;34m\u001b[0m\u001b[0m\n",
      "\u001b[0;32m~/mainenv/lib/python3.6/site-packages/gensim/utils.py\u001b[0m in \u001b[0;36mload\u001b[0;34m(cls, fname, mmap)\u001b[0m\n\u001b[1;32m    420\u001b[0m         \u001b[0mcompress\u001b[0m\u001b[0;34m,\u001b[0m \u001b[0msubname\u001b[0m \u001b[0;34m=\u001b[0m \u001b[0mSaveLoad\u001b[0m\u001b[0;34m.\u001b[0m\u001b[0m_adapt_by_suffix\u001b[0m\u001b[0;34m(\u001b[0m\u001b[0mfname\u001b[0m\u001b[0;34m)\u001b[0m\u001b[0;34m\u001b[0m\u001b[0;34m\u001b[0m\u001b[0m\n\u001b[1;32m    421\u001b[0m \u001b[0;34m\u001b[0m\u001b[0m\n\u001b[0;32m--> 422\u001b[0;31m         \u001b[0mobj\u001b[0m \u001b[0;34m=\u001b[0m \u001b[0munpickle\u001b[0m\u001b[0;34m(\u001b[0m\u001b[0mfname\u001b[0m\u001b[0;34m)\u001b[0m\u001b[0;34m\u001b[0m\u001b[0;34m\u001b[0m\u001b[0m\n\u001b[0m\u001b[1;32m    423\u001b[0m         \u001b[0mobj\u001b[0m\u001b[0;34m.\u001b[0m\u001b[0m_load_specials\u001b[0m\u001b[0;34m(\u001b[0m\u001b[0mfname\u001b[0m\u001b[0;34m,\u001b[0m \u001b[0mmmap\u001b[0m\u001b[0;34m,\u001b[0m \u001b[0mcompress\u001b[0m\u001b[0;34m,\u001b[0m \u001b[0msubname\u001b[0m\u001b[0;34m)\u001b[0m\u001b[0;34m\u001b[0m\u001b[0;34m\u001b[0m\u001b[0m\n\u001b[1;32m    424\u001b[0m         \u001b[0mlogger\u001b[0m\u001b[0;34m.\u001b[0m\u001b[0minfo\u001b[0m\u001b[0;34m(\u001b[0m\u001b[0;34m\"loaded %s\"\u001b[0m\u001b[0;34m,\u001b[0m \u001b[0mfname\u001b[0m\u001b[0;34m)\u001b[0m\u001b[0;34m\u001b[0m\u001b[0;34m\u001b[0m\u001b[0m\n",
      "\u001b[0;32m~/mainenv/lib/python3.6/site-packages/gensim/utils.py\u001b[0m in \u001b[0;36munpickle\u001b[0;34m(fname)\u001b[0m\n\u001b[1;32m   1356\u001b[0m \u001b[0;34m\u001b[0m\u001b[0m\n\u001b[1;32m   1357\u001b[0m     \"\"\"\n\u001b[0;32m-> 1358\u001b[0;31m     \u001b[0;32mwith\u001b[0m \u001b[0msmart_open\u001b[0m\u001b[0;34m(\u001b[0m\u001b[0mfname\u001b[0m\u001b[0;34m,\u001b[0m \u001b[0;34m'rb'\u001b[0m\u001b[0;34m)\u001b[0m \u001b[0;32mas\u001b[0m \u001b[0mf\u001b[0m\u001b[0;34m:\u001b[0m\u001b[0;34m\u001b[0m\u001b[0;34m\u001b[0m\u001b[0m\n\u001b[0m\u001b[1;32m   1359\u001b[0m         \u001b[0;31m# Because of loading from S3 load can't be used (missing readline in smart_open)\u001b[0m\u001b[0;34m\u001b[0m\u001b[0;34m\u001b[0m\u001b[0;34m\u001b[0m\u001b[0m\n\u001b[1;32m   1360\u001b[0m         \u001b[0;32mif\u001b[0m \u001b[0msys\u001b[0m\u001b[0;34m.\u001b[0m\u001b[0mversion_info\u001b[0m \u001b[0;34m>\u001b[0m \u001b[0;34m(\u001b[0m\u001b[0;36m3\u001b[0m\u001b[0;34m,\u001b[0m \u001b[0;36m0\u001b[0m\u001b[0;34m)\u001b[0m\u001b[0;34m:\u001b[0m\u001b[0;34m\u001b[0m\u001b[0;34m\u001b[0m\u001b[0m\n",
      "\u001b[0;32m~/mainenv/lib/python3.6/site-packages/smart_open/smart_open_lib.py\u001b[0m in \u001b[0;36msmart_open\u001b[0;34m(uri, mode, **kw)\u001b[0m\n\u001b[1;32m    179\u001b[0m         \u001b[0;32mraise\u001b[0m \u001b[0mTypeError\u001b[0m\u001b[0;34m(\u001b[0m\u001b[0;34m'mode should be a string'\u001b[0m\u001b[0;34m)\u001b[0m\u001b[0;34m\u001b[0m\u001b[0;34m\u001b[0m\u001b[0m\n\u001b[1;32m    180\u001b[0m \u001b[0;34m\u001b[0m\u001b[0m\n\u001b[0;32m--> 181\u001b[0;31m     \u001b[0mfobj\u001b[0m \u001b[0;34m=\u001b[0m \u001b[0m_shortcut_open\u001b[0m\u001b[0;34m(\u001b[0m\u001b[0muri\u001b[0m\u001b[0;34m,\u001b[0m \u001b[0mmode\u001b[0m\u001b[0;34m,\u001b[0m \u001b[0;34m**\u001b[0m\u001b[0mkw\u001b[0m\u001b[0;34m)\u001b[0m\u001b[0;34m\u001b[0m\u001b[0;34m\u001b[0m\u001b[0m\n\u001b[0m\u001b[1;32m    182\u001b[0m     \u001b[0;32mif\u001b[0m \u001b[0mfobj\u001b[0m \u001b[0;32mis\u001b[0m \u001b[0;32mnot\u001b[0m \u001b[0;32mNone\u001b[0m\u001b[0;34m:\u001b[0m\u001b[0;34m\u001b[0m\u001b[0;34m\u001b[0m\u001b[0m\n\u001b[1;32m    183\u001b[0m         \u001b[0;32mreturn\u001b[0m \u001b[0mfobj\u001b[0m\u001b[0;34m\u001b[0m\u001b[0;34m\u001b[0m\u001b[0m\n",
      "\u001b[0;32m~/mainenv/lib/python3.6/site-packages/smart_open/smart_open_lib.py\u001b[0m in \u001b[0;36m_shortcut_open\u001b[0;34m(uri, mode, **kw)\u001b[0m\n\u001b[1;32m    299\u001b[0m     \u001b[0;31m#\u001b[0m\u001b[0;34m\u001b[0m\u001b[0;34m\u001b[0m\u001b[0;34m\u001b[0m\u001b[0m\n\u001b[1;32m    300\u001b[0m     \u001b[0;32mif\u001b[0m \u001b[0msix\u001b[0m\u001b[0;34m.\u001b[0m\u001b[0mPY3\u001b[0m\u001b[0;34m:\u001b[0m\u001b[0;34m\u001b[0m\u001b[0;34m\u001b[0m\u001b[0m\n\u001b[0;32m--> 301\u001b[0;31m         \u001b[0;32mreturn\u001b[0m \u001b[0mopen\u001b[0m\u001b[0;34m(\u001b[0m\u001b[0mparsed_uri\u001b[0m\u001b[0;34m.\u001b[0m\u001b[0muri_path\u001b[0m\u001b[0;34m,\u001b[0m \u001b[0mmode\u001b[0m\u001b[0;34m,\u001b[0m \u001b[0mbuffering\u001b[0m\u001b[0;34m=\u001b[0m\u001b[0mbuffering\u001b[0m\u001b[0;34m,\u001b[0m \u001b[0;34m**\u001b[0m\u001b[0mopen_kwargs\u001b[0m\u001b[0;34m)\u001b[0m\u001b[0;34m\u001b[0m\u001b[0;34m\u001b[0m\u001b[0m\n\u001b[0m\u001b[1;32m    302\u001b[0m     \u001b[0;32melif\u001b[0m \u001b[0;32mnot\u001b[0m \u001b[0mopen_kwargs\u001b[0m\u001b[0;34m:\u001b[0m\u001b[0;34m\u001b[0m\u001b[0;34m\u001b[0m\u001b[0m\n\u001b[1;32m    303\u001b[0m         \u001b[0;32mreturn\u001b[0m \u001b[0mopen\u001b[0m\u001b[0;34m(\u001b[0m\u001b[0mparsed_uri\u001b[0m\u001b[0;34m.\u001b[0m\u001b[0muri_path\u001b[0m\u001b[0;34m,\u001b[0m \u001b[0mmode\u001b[0m\u001b[0;34m,\u001b[0m \u001b[0mbuffering\u001b[0m\u001b[0;34m=\u001b[0m\u001b[0mbuffering\u001b[0m\u001b[0;34m)\u001b[0m\u001b[0;34m\u001b[0m\u001b[0;34m\u001b[0m\u001b[0m\n",
      "\u001b[0;31mFileNotFoundError\u001b[0m: [Errno 2] No such file or directory: '300features_40minwords_10context'"
     ]
    }
   ],
   "source": [
    "# Load the model that we created in Part 2\n",
    "from gensim.models import Word2Vec\n",
    "model = Word2Vec.load(\"300features_40minwords_10context\")"
   ]
  },
  {
   "cell_type": "markdown",
   "metadata": {},
   "source": [
    "# vector averaging"
   ]
  },
  {
   "cell_type": "code",
   "execution_count": 11,
   "metadata": {},
   "outputs": [],
   "source": [
    "import numpy as np\n",
    "# Function to average all of the word vectors in a given paragraph\n",
    "def makeFeatureVec(words, model, num_features):\n",
    "    featureVec = np.zeros((num_features,), dtype='float32')\n",
    "    nwords = 0\n",
    "    index2word_set = set(model.wv.index2word)\n",
    "    for word in words:\n",
    "        if word in index2word_set:\n",
    "            nwords = nwords + 1\n",
    "            featureVec = np.add(featureVec, model[word])\n",
    "    featureVec = np.divide(featureVec, nwords)\n",
    "    return featureVec"
   ]
  },
  {
   "cell_type": "code",
   "execution_count": 12,
   "metadata": {},
   "outputs": [],
   "source": [
    "def getAvgFeatureVecs(reviews, model, num_features):\n",
    "    counter = 0\n",
    "    reviewFeatureVecs = np.zeros((len(reviews), num_features), dtype='float32')\n",
    "    for review in reviews:\n",
    "        reviewFeatureVecs[counter] = makeFeatureVec(review, model, num_features)\n",
    "        counter = counter + 1\n",
    "    return reviewFeatureVecs"
   ]
  },
  {
   "cell_type": "code",
   "execution_count": 13,
   "metadata": {},
   "outputs": [
    {
     "name": "stderr",
     "output_type": "stream",
     "text": [
      "/home/svet/mainenv/lib/python3.6/site-packages/ipykernel_launcher.py:10: DeprecationWarning: Call to deprecated `__getitem__` (Method will be removed in 4.0.0, use self.wv.__getitem__() instead).\n",
      "  # Remove the CWD from sys.path while we load stuff.\n"
     ]
    }
   ],
   "source": [
    "clean_train_reviews = []\n",
    "for review in train['review']:\n",
    "    clean_train_reviews.append(review_to_wordlist(review, remove_stopwords=True))\n",
    "trainDataVecs = getAvgFeatureVecs(clean_train_reviews, model, num_features)\n",
    "\n",
    "clean_test_reviews = []\n",
    "for review in test['review']:\n",
    "    clean_test_reviews.append(review_to_wordlist(review, remove_stopwords=True))\n",
    "testDataVecs = getAvgFeatureVecs(clean_test_reviews, model, num_features)"
   ]
  },
  {
   "cell_type": "code",
   "execution_count": 14,
   "metadata": {},
   "outputs": [],
   "source": [
    "from sklearn.ensemble import RandomForestClassifier\n",
    "forest = RandomForestClassifier(n_estimators=100)\n",
    "\n",
    "forest = forest.fit( trainDataVecs, train[\"sentiment\"] )\n",
    "result = forest.predict(testDataVecs)"
   ]
  },
  {
   "cell_type": "code",
   "execution_count": 31,
   "metadata": {},
   "outputs": [],
   "source": [
    "output = pd.DataFrame(data={\"id\":test[\"id\"], \"sentiment\":result})\n",
    "output.to_csv(\"Word2Vec_AverageVectors.csv\", index=False, quoting=3)"
   ]
  },
  {
   "cell_type": "markdown",
   "metadata": {},
   "source": [
    "# clustering"
   ]
  },
  {
   "cell_type": "code",
   "execution_count": null,
   "metadata": {},
   "outputs": [],
   "source": []
  }
 ],
 "metadata": {
  "kernelspec": {
   "display_name": "Python 3",
   "language": "python",
   "name": "python3"
  },
  "language_info": {
   "codemirror_mode": {
    "name": "ipython",
    "version": 3
   },
   "file_extension": ".py",
   "mimetype": "text/x-python",
   "name": "python",
   "nbconvert_exporter": "python",
   "pygments_lexer": "ipython3",
   "version": "3.6.7"
  }
 },
 "nbformat": 4,
 "nbformat_minor": 2
}
